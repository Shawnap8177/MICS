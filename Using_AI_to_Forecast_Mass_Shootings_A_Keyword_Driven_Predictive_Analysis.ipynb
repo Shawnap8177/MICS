{
  "cells": [
    {
      "cell_type": "markdown",
      "metadata": {
        "id": "view-in-github",
        "colab_type": "text"
      },
      "source": [
        "<a href=\"https://colab.research.google.com/github/Shawnap8177/MICS/blob/main/Using_AI_to_Forecast_Mass_Shootings_A_Keyword_Driven_Predictive_Analysis.ipynb\" target=\"_parent\"><img src=\"https://colab.research.google.com/assets/colab-badge.svg\" alt=\"Open In Colab\"/></a>"
      ]
    },
    {
      "cell_type": "code",
      "execution_count": null,
      "metadata": {
        "colab": {
          "base_uri": "https://localhost:8080/"
        },
        "id": "_ZP5Net9ahRX",
        "outputId": "e45ed8ae-6c9f-45b5-a8eb-84a107098fd9"
      },
      "outputs": [
        {
          "output_type": "stream",
          "name": "stderr",
          "text": [
            "[nltk_data] Downloading package stopwords to /root/nltk_data...\n",
            "[nltk_data]   Package stopwords is already up-to-date!\n",
            "[nltk_data] Downloading package wordnet to /root/nltk_data...\n",
            "[nltk_data]   Package wordnet is already up-to-date!\n",
            "[nltk_data] Downloading package omw-1.4 to /root/nltk_data...\n",
            "[nltk_data]   Package omw-1.4 is already up-to-date!\n"
          ]
        }
      ],
      "source": [
        "import pandas as pd\n",
        "pd.options.display.max_columns = None\n",
        "import nltk\n",
        "nltk.download('stopwords')\n",
        "nltk.download('wordnet')\n",
        "nltk.download('omw-1.4')\n",
        "df_shootings = pd.read_csv(\"/Mother Jones - Mass Shootings Database.csv\",encoding='utf-8')\n",
        "#df_shootings = pd.read_csv(\"data\\\\US Mass Shootings May 24 2022.csv\")\n",
        "\n",
        "\n"
      ]
    },
    {
      "cell_type": "code",
      "execution_count": null,
      "metadata": {
        "id": "Ks8_lm6HahRn",
        "colab": {
          "base_uri": "https://localhost:8080/",
          "height": 669
        },
        "outputId": "24f3150a-e340-459c-a3a1-cbd6506698e8"
      },
      "outputs": [
        {
          "output_type": "execute_result",
          "data": {
            "text/plain": [
              "                                   case                    location      date  \\\n",
              "0                   LGBTQ club shooting  Colorado Springs, Colorado  11/19/22   \n",
              "1       University of Virginia shooting   Charlottesville, Virginia  11/13/22   \n",
              "2                Raleigh spree shooting   Hedingham, North Carolina  10/13/22   \n",
              "3          Greenwood Park Mall shooting          Greenwood, Indiana   7/17/22   \n",
              "4  Highland Park July 4 parade shooting     Highland Park, Illinois    7/4/22   \n",
              "\n",
              "                                             summary  fatalities injured  \\\n",
              "0  Anderson L. Aldrich, 22, wore body armor and o...           5      25   \n",
              "1  Christopher Darnell Jones Jr., 22, allegedly o...           3       2   \n",
              "2  Austin Thompson, 15, went on a rampage in the ...           5       2   \n",
              "3  Jonathan Sapirman, 20, opened fire in a mall f...           3       2   \n",
              "4  Suspected gunman Robert \"Bobby\" Crimo, 21, all...           7      46   \n",
              "\n",
              "  total_victims location.1 age_of_shooter prior_signs_mental_health_issues  \\\n",
              "0            30      Other             22                              yes   \n",
              "1             5     School             22                                -   \n",
              "2             7      Other             15                                -   \n",
              "3             5  workplace             20                                -   \n",
              "4            53      Other             21                                -   \n",
              "\n",
              "                               mental_health_details weapons_obtained_legally  \\\n",
              "0  Aldrich reportedly had a history of menacing b...                        -   \n",
              "1                                                  -                        -   \n",
              "2                                                  -                        -   \n",
              "3                                                  -                      yes   \n",
              "4                                                  -                      yes   \n",
              "\n",
              "                                      where_obtained  \\\n",
              "0                                                  -   \n",
              "1                                                  -   \n",
              "2                                                  -   \n",
              "3                                       in Greenwood   \n",
              "4  legally purchased by the shooter in the \"great...   \n",
              "\n",
              "                                   weapon_type  \\\n",
              "0   semiautomatic rifle; semiautomatic handgun   \n",
              "1                                            -   \n",
              "2   semiautomatic rifle, semiautomatic handgun   \n",
              "3  semiautomatic rifles; semiautomatic handgun   \n",
              "4                          semiautomatic rifle   \n",
              "\n",
              "                                      weapon_details   race gender  \\\n",
              "0                                                  -  White      M   \n",
              "1                                                  -  Black      M   \n",
              "2                                                NaN  White      M   \n",
              "3                               Sig Sauer M400 rifle  White      M   \n",
              "4  AR-15 style rifle, possibly modified for rapid...  White      M   \n",
              "\n",
              "                                             sources  \\\n",
              "0  https://coloradosun.com/2022/11/20/club-q-shoo...   \n",
              "1  https://www.washingtonpost.com/nation/2022/11/...   \n",
              "2  https://www.newsobserver.com/news/local/crime/...   \n",
              "3  https://apnews.com/article/indiana-mall-shooti...   \n",
              "4  https://www.cbsnews.com/chicago/news/suspect-i...   \n",
              "\n",
              "                               mental_health_sources sources_additional_age  \\\n",
              "0  https://www.nytimes.com/2022/11/20/us/colorado...                      -   \n",
              "1                                                  -                      -   \n",
              "2                                                  -                      -   \n",
              "3                                                  -                      -   \n",
              "4                                                  -                      -   \n",
              "\n",
              "  latitude longitude   type  year  Unnamed: 24  Unnamed: 25  Unnamed: 26  \\\n",
              "0        -         -   Mass  2022          NaN          NaN          NaN   \n",
              "1        -         -   Mass  2022          NaN          NaN          NaN   \n",
              "2        -         -  Spree  2022          NaN          NaN          NaN   \n",
              "3        -         -   Mass  2022          NaN          NaN          NaN   \n",
              "4        -         -   Mass  2022          NaN          NaN          NaN   \n",
              "\n",
              "   Unnamed: 27  \n",
              "0          NaN  \n",
              "1          NaN  \n",
              "2          NaN  \n",
              "3          NaN  \n",
              "4          NaN  "
            ],
            "text/html": [
              "\n",
              "  <div id=\"df-8e14e1d8-3d0b-42e9-8267-fb962d6b7ce0\">\n",
              "    <div class=\"colab-df-container\">\n",
              "      <div>\n",
              "<style scoped>\n",
              "    .dataframe tbody tr th:only-of-type {\n",
              "        vertical-align: middle;\n",
              "    }\n",
              "\n",
              "    .dataframe tbody tr th {\n",
              "        vertical-align: top;\n",
              "    }\n",
              "\n",
              "    .dataframe thead th {\n",
              "        text-align: right;\n",
              "    }\n",
              "</style>\n",
              "<table border=\"1\" class=\"dataframe\">\n",
              "  <thead>\n",
              "    <tr style=\"text-align: right;\">\n",
              "      <th></th>\n",
              "      <th>case</th>\n",
              "      <th>location</th>\n",
              "      <th>date</th>\n",
              "      <th>summary</th>\n",
              "      <th>fatalities</th>\n",
              "      <th>injured</th>\n",
              "      <th>total_victims</th>\n",
              "      <th>location.1</th>\n",
              "      <th>age_of_shooter</th>\n",
              "      <th>prior_signs_mental_health_issues</th>\n",
              "      <th>mental_health_details</th>\n",
              "      <th>weapons_obtained_legally</th>\n",
              "      <th>where_obtained</th>\n",
              "      <th>weapon_type</th>\n",
              "      <th>weapon_details</th>\n",
              "      <th>race</th>\n",
              "      <th>gender</th>\n",
              "      <th>sources</th>\n",
              "      <th>mental_health_sources</th>\n",
              "      <th>sources_additional_age</th>\n",
              "      <th>latitude</th>\n",
              "      <th>longitude</th>\n",
              "      <th>type</th>\n",
              "      <th>year</th>\n",
              "      <th>Unnamed: 24</th>\n",
              "      <th>Unnamed: 25</th>\n",
              "      <th>Unnamed: 26</th>\n",
              "      <th>Unnamed: 27</th>\n",
              "    </tr>\n",
              "  </thead>\n",
              "  <tbody>\n",
              "    <tr>\n",
              "      <th>0</th>\n",
              "      <td>LGBTQ club shooting</td>\n",
              "      <td>Colorado Springs, Colorado</td>\n",
              "      <td>11/19/22</td>\n",
              "      <td>Anderson L. Aldrich, 22, wore body armor and o...</td>\n",
              "      <td>5</td>\n",
              "      <td>25</td>\n",
              "      <td>30</td>\n",
              "      <td>Other</td>\n",
              "      <td>22</td>\n",
              "      <td>yes</td>\n",
              "      <td>Aldrich reportedly had a history of menacing b...</td>\n",
              "      <td>-</td>\n",
              "      <td>-</td>\n",
              "      <td>semiautomatic rifle; semiautomatic handgun</td>\n",
              "      <td>-</td>\n",
              "      <td>White</td>\n",
              "      <td>M</td>\n",
              "      <td>https://coloradosun.com/2022/11/20/club-q-shoo...</td>\n",
              "      <td>https://www.nytimes.com/2022/11/20/us/colorado...</td>\n",
              "      <td>-</td>\n",
              "      <td>-</td>\n",
              "      <td>-</td>\n",
              "      <td>Mass</td>\n",
              "      <td>2022</td>\n",
              "      <td>NaN</td>\n",
              "      <td>NaN</td>\n",
              "      <td>NaN</td>\n",
              "      <td>NaN</td>\n",
              "    </tr>\n",
              "    <tr>\n",
              "      <th>1</th>\n",
              "      <td>University of Virginia shooting</td>\n",
              "      <td>Charlottesville, Virginia</td>\n",
              "      <td>11/13/22</td>\n",
              "      <td>Christopher Darnell Jones Jr., 22, allegedly o...</td>\n",
              "      <td>3</td>\n",
              "      <td>2</td>\n",
              "      <td>5</td>\n",
              "      <td>School</td>\n",
              "      <td>22</td>\n",
              "      <td>-</td>\n",
              "      <td>-</td>\n",
              "      <td>-</td>\n",
              "      <td>-</td>\n",
              "      <td>-</td>\n",
              "      <td>-</td>\n",
              "      <td>Black</td>\n",
              "      <td>M</td>\n",
              "      <td>https://www.washingtonpost.com/nation/2022/11/...</td>\n",
              "      <td>-</td>\n",
              "      <td>-</td>\n",
              "      <td>-</td>\n",
              "      <td>-</td>\n",
              "      <td>Mass</td>\n",
              "      <td>2022</td>\n",
              "      <td>NaN</td>\n",
              "      <td>NaN</td>\n",
              "      <td>NaN</td>\n",
              "      <td>NaN</td>\n",
              "    </tr>\n",
              "    <tr>\n",
              "      <th>2</th>\n",
              "      <td>Raleigh spree shooting</td>\n",
              "      <td>Hedingham, North Carolina</td>\n",
              "      <td>10/13/22</td>\n",
              "      <td>Austin Thompson, 15, went on a rampage in the ...</td>\n",
              "      <td>5</td>\n",
              "      <td>2</td>\n",
              "      <td>7</td>\n",
              "      <td>Other</td>\n",
              "      <td>15</td>\n",
              "      <td>-</td>\n",
              "      <td>-</td>\n",
              "      <td>-</td>\n",
              "      <td>-</td>\n",
              "      <td>semiautomatic rifle, semiautomatic handgun</td>\n",
              "      <td>NaN</td>\n",
              "      <td>White</td>\n",
              "      <td>M</td>\n",
              "      <td>https://www.newsobserver.com/news/local/crime/...</td>\n",
              "      <td>-</td>\n",
              "      <td>-</td>\n",
              "      <td>-</td>\n",
              "      <td>-</td>\n",
              "      <td>Spree</td>\n",
              "      <td>2022</td>\n",
              "      <td>NaN</td>\n",
              "      <td>NaN</td>\n",
              "      <td>NaN</td>\n",
              "      <td>NaN</td>\n",
              "    </tr>\n",
              "    <tr>\n",
              "      <th>3</th>\n",
              "      <td>Greenwood Park Mall shooting</td>\n",
              "      <td>Greenwood, Indiana</td>\n",
              "      <td>7/17/22</td>\n",
              "      <td>Jonathan Sapirman, 20, opened fire in a mall f...</td>\n",
              "      <td>3</td>\n",
              "      <td>2</td>\n",
              "      <td>5</td>\n",
              "      <td>workplace</td>\n",
              "      <td>20</td>\n",
              "      <td>-</td>\n",
              "      <td>-</td>\n",
              "      <td>yes</td>\n",
              "      <td>in Greenwood</td>\n",
              "      <td>semiautomatic rifles; semiautomatic handgun</td>\n",
              "      <td>Sig Sauer M400 rifle</td>\n",
              "      <td>White</td>\n",
              "      <td>M</td>\n",
              "      <td>https://apnews.com/article/indiana-mall-shooti...</td>\n",
              "      <td>-</td>\n",
              "      <td>-</td>\n",
              "      <td>-</td>\n",
              "      <td>-</td>\n",
              "      <td>Mass</td>\n",
              "      <td>2022</td>\n",
              "      <td>NaN</td>\n",
              "      <td>NaN</td>\n",
              "      <td>NaN</td>\n",
              "      <td>NaN</td>\n",
              "    </tr>\n",
              "    <tr>\n",
              "      <th>4</th>\n",
              "      <td>Highland Park July 4 parade shooting</td>\n",
              "      <td>Highland Park, Illinois</td>\n",
              "      <td>7/4/22</td>\n",
              "      <td>Suspected gunman Robert \"Bobby\" Crimo, 21, all...</td>\n",
              "      <td>7</td>\n",
              "      <td>46</td>\n",
              "      <td>53</td>\n",
              "      <td>Other</td>\n",
              "      <td>21</td>\n",
              "      <td>-</td>\n",
              "      <td>-</td>\n",
              "      <td>yes</td>\n",
              "      <td>legally purchased by the shooter in the \"great...</td>\n",
              "      <td>semiautomatic rifle</td>\n",
              "      <td>AR-15 style rifle, possibly modified for rapid...</td>\n",
              "      <td>White</td>\n",
              "      <td>M</td>\n",
              "      <td>https://www.cbsnews.com/chicago/news/suspect-i...</td>\n",
              "      <td>-</td>\n",
              "      <td>-</td>\n",
              "      <td>-</td>\n",
              "      <td>-</td>\n",
              "      <td>Mass</td>\n",
              "      <td>2022</td>\n",
              "      <td>NaN</td>\n",
              "      <td>NaN</td>\n",
              "      <td>NaN</td>\n",
              "      <td>NaN</td>\n",
              "    </tr>\n",
              "  </tbody>\n",
              "</table>\n",
              "</div>\n",
              "      <button class=\"colab-df-convert\" onclick=\"convertToInteractive('df-8e14e1d8-3d0b-42e9-8267-fb962d6b7ce0')\"\n",
              "              title=\"Convert this dataframe to an interactive table.\"\n",
              "              style=\"display:none;\">\n",
              "        \n",
              "  <svg xmlns=\"http://www.w3.org/2000/svg\" height=\"24px\"viewBox=\"0 0 24 24\"\n",
              "       width=\"24px\">\n",
              "    <path d=\"M0 0h24v24H0V0z\" fill=\"none\"/>\n",
              "    <path d=\"M18.56 5.44l.94 2.06.94-2.06 2.06-.94-2.06-.94-.94-2.06-.94 2.06-2.06.94zm-11 1L8.5 8.5l.94-2.06 2.06-.94-2.06-.94L8.5 2.5l-.94 2.06-2.06.94zm10 10l.94 2.06.94-2.06 2.06-.94-2.06-.94-.94-2.06-.94 2.06-2.06.94z\"/><path d=\"M17.41 7.96l-1.37-1.37c-.4-.4-.92-.59-1.43-.59-.52 0-1.04.2-1.43.59L10.3 9.45l-7.72 7.72c-.78.78-.78 2.05 0 2.83L4 21.41c.39.39.9.59 1.41.59.51 0 1.02-.2 1.41-.59l7.78-7.78 2.81-2.81c.8-.78.8-2.07 0-2.86zM5.41 20L4 18.59l7.72-7.72 1.47 1.35L5.41 20z\"/>\n",
              "  </svg>\n",
              "      </button>\n",
              "      \n",
              "  <style>\n",
              "    .colab-df-container {\n",
              "      display:flex;\n",
              "      flex-wrap:wrap;\n",
              "      gap: 12px;\n",
              "    }\n",
              "\n",
              "    .colab-df-convert {\n",
              "      background-color: #E8F0FE;\n",
              "      border: none;\n",
              "      border-radius: 50%;\n",
              "      cursor: pointer;\n",
              "      display: none;\n",
              "      fill: #1967D2;\n",
              "      height: 32px;\n",
              "      padding: 0 0 0 0;\n",
              "      width: 32px;\n",
              "    }\n",
              "\n",
              "    .colab-df-convert:hover {\n",
              "      background-color: #E2EBFA;\n",
              "      box-shadow: 0px 1px 2px rgba(60, 64, 67, 0.3), 0px 1px 3px 1px rgba(60, 64, 67, 0.15);\n",
              "      fill: #174EA6;\n",
              "    }\n",
              "\n",
              "    [theme=dark] .colab-df-convert {\n",
              "      background-color: #3B4455;\n",
              "      fill: #D2E3FC;\n",
              "    }\n",
              "\n",
              "    [theme=dark] .colab-df-convert:hover {\n",
              "      background-color: #434B5C;\n",
              "      box-shadow: 0px 1px 3px 1px rgba(0, 0, 0, 0.15);\n",
              "      filter: drop-shadow(0px 1px 2px rgba(0, 0, 0, 0.3));\n",
              "      fill: #FFFFFF;\n",
              "    }\n",
              "  </style>\n",
              "\n",
              "      <script>\n",
              "        const buttonEl =\n",
              "          document.querySelector('#df-8e14e1d8-3d0b-42e9-8267-fb962d6b7ce0 button.colab-df-convert');\n",
              "        buttonEl.style.display =\n",
              "          google.colab.kernel.accessAllowed ? 'block' : 'none';\n",
              "\n",
              "        async function convertToInteractive(key) {\n",
              "          const element = document.querySelector('#df-8e14e1d8-3d0b-42e9-8267-fb962d6b7ce0');\n",
              "          const dataTable =\n",
              "            await google.colab.kernel.invokeFunction('convertToInteractive',\n",
              "                                                     [key], {});\n",
              "          if (!dataTable) return;\n",
              "\n",
              "          const docLinkHtml = 'Like what you see? Visit the ' +\n",
              "            '<a target=\"_blank\" href=https://colab.research.google.com/notebooks/data_table.ipynb>data table notebook</a>'\n",
              "            + ' to learn more about interactive tables.';\n",
              "          element.innerHTML = '';\n",
              "          dataTable['output_type'] = 'display_data';\n",
              "          await google.colab.output.renderOutput(dataTable, element);\n",
              "          const docLink = document.createElement('div');\n",
              "          docLink.innerHTML = docLinkHtml;\n",
              "          element.appendChild(docLink);\n",
              "        }\n",
              "      </script>\n",
              "    </div>\n",
              "  </div>\n",
              "  "
            ]
          },
          "metadata": {},
          "execution_count": 3
        }
      ],
      "source": [
        "df_shootings.head()"
      ]
    },
    {
      "cell_type": "code",
      "execution_count": null,
      "metadata": {
        "id": "JYNwO7bRahRy",
        "colab": {
          "base_uri": "https://localhost:8080/"
        },
        "outputId": "509ce684-debe-4645-f69d-3019f7ff0a5e"
      },
      "outputs": [
        {
          "output_type": "execute_result",
          "data": {
            "text/plain": [
              "0      False\n",
              "1      False\n",
              "2       True\n",
              "3      False\n",
              "4      False\n",
              "       ...  \n",
              "131    False\n",
              "132    False\n",
              "133    False\n",
              "134    False\n",
              "135    False\n",
              "Name: weapon_details, Length: 136, dtype: bool"
            ]
          },
          "metadata": {},
          "execution_count": 4
        }
      ],
      "source": [
        "df_shootings[\"weapon_details\"].isna()\n"
      ]
    },
    {
      "cell_type": "code",
      "execution_count": null,
      "metadata": {
        "id": "dveMBY_NahR2",
        "colab": {
          "base_uri": "https://localhost:8080/"
        },
        "outputId": "f3471199-6281-45cb-d813-5979cb67ddf5"
      },
      "outputs": [
        {
          "output_type": "execute_result",
          "data": {
            "text/plain": [
              "Index(['case', 'location', 'date', 'summary', 'fatalities', 'injured',\n",
              "       'total_victims', 'location.1', 'age_of_shooter',\n",
              "       'prior_signs_mental_health_issues', 'mental_health_details',\n",
              "       'weapons_obtained_legally', 'where_obtained', 'weapon_type',\n",
              "       'weapon_details', 'race', 'gender', 'sources', 'mental_health_sources',\n",
              "       'sources_additional_age', 'latitude', 'longitude', 'type', 'year',\n",
              "       'Unnamed: 24', 'Unnamed: 25', 'Unnamed: 26', 'Unnamed: 27'],\n",
              "      dtype='object')"
            ]
          },
          "metadata": {},
          "execution_count": 5
        }
      ],
      "source": [
        "\n",
        "df_shootings.columns"
      ]
    },
    {
      "cell_type": "code",
      "execution_count": null,
      "metadata": {
        "id": "2VTz3SnsahR6",
        "colab": {
          "base_uri": "https://localhost:8080/"
        },
        "outputId": "ca1a6504-53e9-47b5-a424-f5fab5224982"
      },
      "outputs": [
        {
          "output_type": "stream",
          "name": "stdout",
          "text": [
            "<class 'pandas.core.frame.DataFrame'>\n",
            "RangeIndex: 136 entries, 0 to 135\n",
            "Data columns (total 28 columns):\n",
            " #   Column                            Non-Null Count  Dtype  \n",
            "---  ------                            --------------  -----  \n",
            " 0   case                              136 non-null    object \n",
            " 1   location                          136 non-null    object \n",
            " 2   date                              136 non-null    object \n",
            " 3   summary                           136 non-null    object \n",
            " 4   fatalities                        136 non-null    int64  \n",
            " 5   injured                           136 non-null    object \n",
            " 6   total_victims                     136 non-null    object \n",
            " 7   location.1                        136 non-null    object \n",
            " 8   age_of_shooter                    136 non-null    object \n",
            " 9   prior_signs_mental_health_issues  136 non-null    object \n",
            " 10  mental_health_details             136 non-null    object \n",
            " 11  weapons_obtained_legally          136 non-null    object \n",
            " 12  where_obtained                    136 non-null    object \n",
            " 13  weapon_type                       136 non-null    object \n",
            " 14  weapon_details                    135 non-null    object \n",
            " 15  race                              136 non-null    object \n",
            " 16  gender                            136 non-null    object \n",
            " 17  sources                           136 non-null    object \n",
            " 18  mental_health_sources             136 non-null    object \n",
            " 19  sources_additional_age            136 non-null    object \n",
            " 20  latitude                          136 non-null    object \n",
            " 21  longitude                         136 non-null    object \n",
            " 22  type                              136 non-null    object \n",
            " 23  year                              136 non-null    int64  \n",
            " 24  Unnamed: 24                       0 non-null      float64\n",
            " 25  Unnamed: 25                       0 non-null      float64\n",
            " 26  Unnamed: 26                       0 non-null      float64\n",
            " 27  Unnamed: 27                       0 non-null      float64\n",
            "dtypes: float64(4), int64(2), object(22)\n",
            "memory usage: 29.9+ KB\n"
          ]
        }
      ],
      "source": [
        "df_shootings.info()"
      ]
    },
    {
      "cell_type": "code",
      "execution_count": null,
      "metadata": {
        "id": "19MG-ZO6ahR-",
        "colab": {
          "base_uri": "https://localhost:8080/"
        },
        "outputId": "7ba17121-0159-4c18-ca03-6426f56bf01a"
      },
      "outputs": [
        {
          "output_type": "stream",
          "name": "stdout",
          "text": [
            "0      Anderson L. Aldrich, 22, wore body armor and o...\n",
            "1      Christopher Darnell Jones Jr., 22, allegedly o...\n",
            "2      Austin Thompson, 15, went on a rampage in the ...\n",
            "3      Jonathan Sapirman, 20, opened fire in a mall f...\n",
            "4      Suspected gunman Robert \"Bobby\" Crimo, 21, all...\n",
            "                             ...                        \n",
            "131    Retired librarian William Cruse, 59, was paran...\n",
            "132    Postal worker Patrick Sherrill, 44, opened fir...\n",
            "133    James Oliver Huberty, 41, opened fire in a McD...\n",
            "134    Abdelkrim Belachheb, 39, opened fire at an ups...\n",
            "135    Junior high school teacher Carl Robert Brown, ...\n",
            "Name: summary, Length: 136, dtype: object\n"
          ]
        }
      ],
      "source": [
        "print(df_shootings.summary)"
      ]
    },
    {
      "cell_type": "code",
      "execution_count": null,
      "metadata": {
        "id": "G3Ji_9pEahSC",
        "colab": {
          "base_uri": "https://localhost:8080/"
        },
        "outputId": "4e7f7206-41e3-40e5-e8ae-fb84c7803c93"
      },
      "outputs": [
        {
          "output_type": "execute_result",
          "data": {
            "text/plain": [
              "-                                            42\n",
              "Unknown                                      15\n",
              "Unclear                                       4\n",
              "TBD                                           3\n",
              "Purchased from an individual                  2\n",
              "                                             ..\n",
              "Assembled a rifle out of component parts.     1\n",
              "Florida Gun Center                            1\n",
              "Sharpshooters Small Arms Range                1\n",
              "Local gun store in Killeen, Guns Galore       1\n",
              "Garcia Gun Center in Hialeah, Fla.            1\n",
              "Name: where_obtained, Length: 75, dtype: int64"
            ]
          },
          "metadata": {},
          "execution_count": 8
        }
      ],
      "source": [
        "df_shootings[\"where_obtained\"].value_counts()\n"
      ]
    },
    {
      "cell_type": "code",
      "execution_count": null,
      "metadata": {
        "id": "iPBsO5HhahSL",
        "colab": {
          "base_uri": "https://localhost:8080/"
        },
        "outputId": "4018081e-9238-4e63-aee5-943177776840"
      },
      "outputs": [
        {
          "output_type": "execute_result",
          "data": {
            "text/plain": [
              "weapons_obtained_legally                                                                                                           \n",
              "Yes                                                                                                                                    80\n",
              "No                                                                                                                                     16\n",
              "-                                                                                                                                      15\n",
              "TBD                                                                                                                                     7\n",
              "yes                                                                                                                                     7\n",
              "Unknown                                                                                                                                 6\n",
              "\\nYes                                                                                                                                   2\n",
              "Kelley passed federal criminal background checks; the US Air Force failed to provide information on his criminal history to the FBI     1\n",
              "Yes                                                                                                                                     1\n",
              "Yes (\"some of the weapons were purchased legally and some of them may not have been\")                                                   1\n",
              "dtype: int64"
            ]
          },
          "metadata": {},
          "execution_count": 9
        }
      ],
      "source": [
        "#targets\n",
        "#df_shootings[[\"prior_signs_mental_health_issues\"]].value_counts()\n",
        "#df_shootings[[\"location.1\"]].value_counts()\n",
        "#df_shootings[[\"type\"]].value_counts()\n",
        "df_shootings[[\"weapons_obtained_legally\"]].value_counts()\n",
        "#\n"
      ]
    },
    {
      "cell_type": "code",
      "execution_count": null,
      "metadata": {
        "id": "WEJov9t-ahSV",
        "colab": {
          "base_uri": "https://localhost:8080/",
          "height": 424
        },
        "outputId": "b83542aa-8244-4ea1-f067-92fedaef17af"
      },
      "outputs": [
        {
          "output_type": "execute_result",
          "data": {
            "text/plain": [
              "                       location       date  fatalities injured total_victims  \\\n",
              "0    Colorado Springs, Colorado   11/19/22           5      25            30   \n",
              "1     Charlottesville, Virginia   11/13/22           3       2             5   \n",
              "2     Hedingham, North Carolina   10/13/22           5       2             7   \n",
              "3            Greenwood, Indiana    7/17/22           3       2             5   \n",
              "4       Highland Park, Illinois     7/4/22           7      46            53   \n",
              "..                          ...        ...         ...     ...           ...   \n",
              "131           Palm Bay, Florida  4/23/1987           6      14            20   \n",
              "132            Edmond, Oklahoma  8/20/1986          15       6            21   \n",
              "133      San Ysidro, California  7/18/1984          22      19            41   \n",
              "134               Dallas, Texas  6/29/1984           6       1             7   \n",
              "135              Miami, Florida  8/20/1982           8       3            11   \n",
              "\n",
              "    age_of_shooter   race gender  year  \n",
              "0               22  White      M  2022  \n",
              "1               22  Black      M  2022  \n",
              "2               15  White      M  2022  \n",
              "3               20  White      M  2022  \n",
              "4               21  White      M  2022  \n",
              "..             ...    ...    ...   ...  \n",
              "131             59  white   Male  1987  \n",
              "132             44  white   Male  1986  \n",
              "133             41  white   Male  1984  \n",
              "134             39  white   Male  1984  \n",
              "135             51  white   Male  1982  \n",
              "\n",
              "[136 rows x 9 columns]"
            ],
            "text/html": [
              "\n",
              "  <div id=\"df-5fba79a4-5b32-4877-9482-491163c9d7bd\">\n",
              "    <div class=\"colab-df-container\">\n",
              "      <div>\n",
              "<style scoped>\n",
              "    .dataframe tbody tr th:only-of-type {\n",
              "        vertical-align: middle;\n",
              "    }\n",
              "\n",
              "    .dataframe tbody tr th {\n",
              "        vertical-align: top;\n",
              "    }\n",
              "\n",
              "    .dataframe thead th {\n",
              "        text-align: right;\n",
              "    }\n",
              "</style>\n",
              "<table border=\"1\" class=\"dataframe\">\n",
              "  <thead>\n",
              "    <tr style=\"text-align: right;\">\n",
              "      <th></th>\n",
              "      <th>location</th>\n",
              "      <th>date</th>\n",
              "      <th>fatalities</th>\n",
              "      <th>injured</th>\n",
              "      <th>total_victims</th>\n",
              "      <th>age_of_shooter</th>\n",
              "      <th>race</th>\n",
              "      <th>gender</th>\n",
              "      <th>year</th>\n",
              "    </tr>\n",
              "  </thead>\n",
              "  <tbody>\n",
              "    <tr>\n",
              "      <th>0</th>\n",
              "      <td>Colorado Springs, Colorado</td>\n",
              "      <td>11/19/22</td>\n",
              "      <td>5</td>\n",
              "      <td>25</td>\n",
              "      <td>30</td>\n",
              "      <td>22</td>\n",
              "      <td>White</td>\n",
              "      <td>M</td>\n",
              "      <td>2022</td>\n",
              "    </tr>\n",
              "    <tr>\n",
              "      <th>1</th>\n",
              "      <td>Charlottesville, Virginia</td>\n",
              "      <td>11/13/22</td>\n",
              "      <td>3</td>\n",
              "      <td>2</td>\n",
              "      <td>5</td>\n",
              "      <td>22</td>\n",
              "      <td>Black</td>\n",
              "      <td>M</td>\n",
              "      <td>2022</td>\n",
              "    </tr>\n",
              "    <tr>\n",
              "      <th>2</th>\n",
              "      <td>Hedingham, North Carolina</td>\n",
              "      <td>10/13/22</td>\n",
              "      <td>5</td>\n",
              "      <td>2</td>\n",
              "      <td>7</td>\n",
              "      <td>15</td>\n",
              "      <td>White</td>\n",
              "      <td>M</td>\n",
              "      <td>2022</td>\n",
              "    </tr>\n",
              "    <tr>\n",
              "      <th>3</th>\n",
              "      <td>Greenwood, Indiana</td>\n",
              "      <td>7/17/22</td>\n",
              "      <td>3</td>\n",
              "      <td>2</td>\n",
              "      <td>5</td>\n",
              "      <td>20</td>\n",
              "      <td>White</td>\n",
              "      <td>M</td>\n",
              "      <td>2022</td>\n",
              "    </tr>\n",
              "    <tr>\n",
              "      <th>4</th>\n",
              "      <td>Highland Park, Illinois</td>\n",
              "      <td>7/4/22</td>\n",
              "      <td>7</td>\n",
              "      <td>46</td>\n",
              "      <td>53</td>\n",
              "      <td>21</td>\n",
              "      <td>White</td>\n",
              "      <td>M</td>\n",
              "      <td>2022</td>\n",
              "    </tr>\n",
              "    <tr>\n",
              "      <th>...</th>\n",
              "      <td>...</td>\n",
              "      <td>...</td>\n",
              "      <td>...</td>\n",
              "      <td>...</td>\n",
              "      <td>...</td>\n",
              "      <td>...</td>\n",
              "      <td>...</td>\n",
              "      <td>...</td>\n",
              "      <td>...</td>\n",
              "    </tr>\n",
              "    <tr>\n",
              "      <th>131</th>\n",
              "      <td>Palm Bay, Florida</td>\n",
              "      <td>4/23/1987</td>\n",
              "      <td>6</td>\n",
              "      <td>14</td>\n",
              "      <td>20</td>\n",
              "      <td>59</td>\n",
              "      <td>white</td>\n",
              "      <td>Male</td>\n",
              "      <td>1987</td>\n",
              "    </tr>\n",
              "    <tr>\n",
              "      <th>132</th>\n",
              "      <td>Edmond, Oklahoma</td>\n",
              "      <td>8/20/1986</td>\n",
              "      <td>15</td>\n",
              "      <td>6</td>\n",
              "      <td>21</td>\n",
              "      <td>44</td>\n",
              "      <td>white</td>\n",
              "      <td>Male</td>\n",
              "      <td>1986</td>\n",
              "    </tr>\n",
              "    <tr>\n",
              "      <th>133</th>\n",
              "      <td>San Ysidro, California</td>\n",
              "      <td>7/18/1984</td>\n",
              "      <td>22</td>\n",
              "      <td>19</td>\n",
              "      <td>41</td>\n",
              "      <td>41</td>\n",
              "      <td>white</td>\n",
              "      <td>Male</td>\n",
              "      <td>1984</td>\n",
              "    </tr>\n",
              "    <tr>\n",
              "      <th>134</th>\n",
              "      <td>Dallas, Texas</td>\n",
              "      <td>6/29/1984</td>\n",
              "      <td>6</td>\n",
              "      <td>1</td>\n",
              "      <td>7</td>\n",
              "      <td>39</td>\n",
              "      <td>white</td>\n",
              "      <td>Male</td>\n",
              "      <td>1984</td>\n",
              "    </tr>\n",
              "    <tr>\n",
              "      <th>135</th>\n",
              "      <td>Miami, Florida</td>\n",
              "      <td>8/20/1982</td>\n",
              "      <td>8</td>\n",
              "      <td>3</td>\n",
              "      <td>11</td>\n",
              "      <td>51</td>\n",
              "      <td>white</td>\n",
              "      <td>Male</td>\n",
              "      <td>1982</td>\n",
              "    </tr>\n",
              "  </tbody>\n",
              "</table>\n",
              "<p>136 rows × 9 columns</p>\n",
              "</div>\n",
              "      <button class=\"colab-df-convert\" onclick=\"convertToInteractive('df-5fba79a4-5b32-4877-9482-491163c9d7bd')\"\n",
              "              title=\"Convert this dataframe to an interactive table.\"\n",
              "              style=\"display:none;\">\n",
              "        \n",
              "  <svg xmlns=\"http://www.w3.org/2000/svg\" height=\"24px\"viewBox=\"0 0 24 24\"\n",
              "       width=\"24px\">\n",
              "    <path d=\"M0 0h24v24H0V0z\" fill=\"none\"/>\n",
              "    <path d=\"M18.56 5.44l.94 2.06.94-2.06 2.06-.94-2.06-.94-.94-2.06-.94 2.06-2.06.94zm-11 1L8.5 8.5l.94-2.06 2.06-.94-2.06-.94L8.5 2.5l-.94 2.06-2.06.94zm10 10l.94 2.06.94-2.06 2.06-.94-2.06-.94-.94-2.06-.94 2.06-2.06.94z\"/><path d=\"M17.41 7.96l-1.37-1.37c-.4-.4-.92-.59-1.43-.59-.52 0-1.04.2-1.43.59L10.3 9.45l-7.72 7.72c-.78.78-.78 2.05 0 2.83L4 21.41c.39.39.9.59 1.41.59.51 0 1.02-.2 1.41-.59l7.78-7.78 2.81-2.81c.8-.78.8-2.07 0-2.86zM5.41 20L4 18.59l7.72-7.72 1.47 1.35L5.41 20z\"/>\n",
              "  </svg>\n",
              "      </button>\n",
              "      \n",
              "  <style>\n",
              "    .colab-df-container {\n",
              "      display:flex;\n",
              "      flex-wrap:wrap;\n",
              "      gap: 12px;\n",
              "    }\n",
              "\n",
              "    .colab-df-convert {\n",
              "      background-color: #E8F0FE;\n",
              "      border: none;\n",
              "      border-radius: 50%;\n",
              "      cursor: pointer;\n",
              "      display: none;\n",
              "      fill: #1967D2;\n",
              "      height: 32px;\n",
              "      padding: 0 0 0 0;\n",
              "      width: 32px;\n",
              "    }\n",
              "\n",
              "    .colab-df-convert:hover {\n",
              "      background-color: #E2EBFA;\n",
              "      box-shadow: 0px 1px 2px rgba(60, 64, 67, 0.3), 0px 1px 3px 1px rgba(60, 64, 67, 0.15);\n",
              "      fill: #174EA6;\n",
              "    }\n",
              "\n",
              "    [theme=dark] .colab-df-convert {\n",
              "      background-color: #3B4455;\n",
              "      fill: #D2E3FC;\n",
              "    }\n",
              "\n",
              "    [theme=dark] .colab-df-convert:hover {\n",
              "      background-color: #434B5C;\n",
              "      box-shadow: 0px 1px 3px 1px rgba(0, 0, 0, 0.15);\n",
              "      filter: drop-shadow(0px 1px 2px rgba(0, 0, 0, 0.3));\n",
              "      fill: #FFFFFF;\n",
              "    }\n",
              "  </style>\n",
              "\n",
              "      <script>\n",
              "        const buttonEl =\n",
              "          document.querySelector('#df-5fba79a4-5b32-4877-9482-491163c9d7bd button.colab-df-convert');\n",
              "        buttonEl.style.display =\n",
              "          google.colab.kernel.accessAllowed ? 'block' : 'none';\n",
              "\n",
              "        async function convertToInteractive(key) {\n",
              "          const element = document.querySelector('#df-5fba79a4-5b32-4877-9482-491163c9d7bd');\n",
              "          const dataTable =\n",
              "            await google.colab.kernel.invokeFunction('convertToInteractive',\n",
              "                                                     [key], {});\n",
              "          if (!dataTable) return;\n",
              "\n",
              "          const docLinkHtml = 'Like what you see? Visit the ' +\n",
              "            '<a target=\"_blank\" href=https://colab.research.google.com/notebooks/data_table.ipynb>data table notebook</a>'\n",
              "            + ' to learn more about interactive tables.';\n",
              "          element.innerHTML = '';\n",
              "          dataTable['output_type'] = 'display_data';\n",
              "          await google.colab.output.renderOutput(dataTable, element);\n",
              "          const docLink = document.createElement('div');\n",
              "          docLink.innerHTML = docLinkHtml;\n",
              "          element.appendChild(docLink);\n",
              "        }\n",
              "      </script>\n",
              "    </div>\n",
              "  </div>\n",
              "  "
            ]
          },
          "metadata": {},
          "execution_count": 10
        }
      ],
      "source": [
        "features = [\"location\",\"date\",\"fatalities\",\"injured\",\"total_victims\",\"age_of_shooter\",\"race\",\"gender\",\"year\"]\n",
        "df_shootings[features]"
      ]
    },
    {
      "cell_type": "code",
      "execution_count": null,
      "metadata": {
        "id": "aMKNyuVyahSa",
        "colab": {
          "base_uri": "https://localhost:8080/"
        },
        "outputId": "7281a894-f17c-4b93-bf5f-8ee989c863b4"
      },
      "outputs": [
        {
          "output_type": "execute_result",
          "data": {
            "text/plain": [
              "Index(['case', 'location', 'date', 'summary', 'fatalities', 'injured',\n",
              "       'total_victims', 'location.1', 'age_of_shooter',\n",
              "       'prior_signs_mental_health_issues', 'mental_health_details',\n",
              "       'weapons_obtained_legally', 'where_obtained', 'weapon_type',\n",
              "       'weapon_details', 'race', 'gender', 'sources', 'mental_health_sources',\n",
              "       'sources_additional_age', 'latitude', 'longitude', 'type', 'year',\n",
              "       'Unnamed: 24', 'Unnamed: 25', 'Unnamed: 26', 'Unnamed: 27'],\n",
              "      dtype='object')"
            ]
          },
          "metadata": {},
          "execution_count": 11
        }
      ],
      "source": [
        "df_shootings.columns\n"
      ]
    },
    {
      "cell_type": "code",
      "execution_count": null,
      "metadata": {
        "id": "tilT5GplahSd"
      },
      "outputs": [],
      "source": [
        "\n",
        "target = \"location.1\"\n",
        "text_cols = [\"location\", \"summary\",\"mental_health_details\",\"where_obtained\",\"weapon_type\",\"weapon_details\",\"race\",\"type\"]\n"
      ]
    },
    {
      "cell_type": "markdown",
      "metadata": {
        "id": "Gz2_-kqyahSf"
      },
      "source": [
        "\n",
        "## Data Cleaning"
      ]
    },
    {
      "cell_type": "code",
      "execution_count": null,
      "metadata": {
        "id": "vVSslEmMahSr"
      },
      "outputs": [],
      "source": [
        "\n",
        "df_shootings[target] = df_shootings[target].str.replace(\"\\n\",\"\").str.lower()\n",
        "\n"
      ]
    },
    {
      "cell_type": "code",
      "execution_count": null,
      "metadata": {
        "id": "ahE3o0RoahSt",
        "colab": {
          "base_uri": "https://localhost:8080/"
        },
        "outputId": "cb5e2232-754e-4737-cd86-ccc7f97e894e"
      },
      "outputs": [
        {
          "output_type": "execute_result",
          "data": {
            "text/plain": [
              "case                                  0\n",
              "location                              0\n",
              "date                                  0\n",
              "summary                               0\n",
              "fatalities                            0\n",
              "injured                               0\n",
              "total_victims                         0\n",
              "location.1                            0\n",
              "age_of_shooter                        0\n",
              "prior_signs_mental_health_issues      0\n",
              "mental_health_details                 0\n",
              "weapons_obtained_legally              0\n",
              "where_obtained                        0\n",
              "weapon_type                           0\n",
              "weapon_details                        0\n",
              "race                                  0\n",
              "gender                                0\n",
              "sources                               0\n",
              "mental_health_sources                 0\n",
              "sources_additional_age                0\n",
              "latitude                              0\n",
              "longitude                             0\n",
              "type                                  0\n",
              "year                                  0\n",
              "Unnamed: 24                         136\n",
              "Unnamed: 25                         136\n",
              "Unnamed: 26                         136\n",
              "Unnamed: 27                         136\n",
              "dtype: int64"
            ]
          },
          "metadata": {},
          "execution_count": 14
        }
      ],
      "source": [
        "\n",
        "df_shootings[text_cols]\n",
        "df_shootings.loc[2,\"weapon_details\"] = \"-\"\n",
        "df_shootings.isna().sum()\n",
        "\n"
      ]
    },
    {
      "cell_type": "markdown",
      "metadata": {
        "id": "u0G4hrLZahSx"
      },
      "source": [
        "## Data Transforming"
      ]
    },
    {
      "cell_type": "code",
      "execution_count": null,
      "metadata": {
        "id": "fUoEoWvcahSz",
        "colab": {
          "base_uri": "https://localhost:8080/"
        },
        "outputId": "578f322d-0496-4827-aae1-782226d08816"
      },
      "outputs": [
        {
          "output_type": "stream",
          "name": "stdout",
          "text": [
            "(135, 28)\n",
            "(1, 28)\n"
          ]
        }
      ],
      "source": [
        "####Add Code here\n",
        "print(df_shootings[~(df_shootings[\"location.1\"] == \"airport\")].shape)\n",
        "print(df_shootings[(df_shootings[\"location.1\"] == \"airport\")].shape)\n",
        "\n",
        "df_shootings2 = df_shootings[~(df_shootings[\"location.1\"] == \"airport\")]\n"
      ]
    },
    {
      "cell_type": "code",
      "execution_count": null,
      "metadata": {
        "id": "xBrkbQ8DahS1",
        "colab": {
          "base_uri": "https://localhost:8080/"
        },
        "outputId": "0794fbc4-9a52-41fa-b377-f3baf8c5f053"
      },
      "outputs": [
        {
          "output_type": "stream",
          "name": "stdout",
          "text": [
            "(84, 28)\n",
            "(52, 28)\n"
          ]
        }
      ],
      "source": [
        "print( df_shootings[~(df_shootings[\"location.1\"] == \"other\")].shape)\n",
        "print( df_shootings[(df_shootings[\"location.1\"] == \"other\")].shape)\n",
        "\n",
        "df_shootings = df_shootings2[~(df_shootings2[\"location.1\"] == \"other\")]"
      ]
    },
    {
      "cell_type": "code",
      "execution_count": null,
      "metadata": {
        "id": "6J_3QeK9ahS3"
      },
      "outputs": [],
      "source": [
        "\n",
        "df = df_shootings[text_cols]\n",
        "texts = df.agg(\" \".join,axis=1)"
      ]
    },
    {
      "cell_type": "code",
      "execution_count": null,
      "metadata": {
        "id": "mFHnNJwkahS4"
      },
      "outputs": [],
      "source": [
        "#texts[0]\n"
      ]
    },
    {
      "cell_type": "code",
      "execution_count": null,
      "metadata": {
        "id": "KPYnvz2eahS6",
        "colab": {
          "base_uri": "https://localhost:8080/"
        },
        "outputId": "9bc013fd-0af4-4f4a-cecc-17866e7cd86f"
      },
      "outputs": [
        {
          "output_type": "execute_result",
          "data": {
            "text/plain": [
              "workplace    49\n",
              "school       20\n",
              "religious     8\n",
              "military      6\n",
              "Name: location.1, dtype: int64"
            ]
          },
          "metadata": {},
          "execution_count": 19
        }
      ],
      "source": [
        "#Clean target and encode\n",
        "df_shootings[target].value_counts()\n"
      ]
    },
    {
      "cell_type": "code",
      "execution_count": null,
      "metadata": {
        "id": "aEAdbCEqahS7",
        "colab": {
          "base_uri": "https://localhost:8080/"
        },
        "outputId": "814fe68c-89ee-431c-ca17-554805e86d78"
      },
      "outputs": [
        {
          "output_type": "execute_result",
          "data": {
            "text/plain": [
              "array([2, 3, 1, 3, 3, 2, 3, 1, 2, 3, 3, 3, 3, 3, 3, 3, 0, 3, 3, 3, 3, 3,\n",
              "       1, 3, 3, 3, 3, 2, 3, 2, 1, 3, 3, 3, 3, 3, 3, 3, 3, 2, 0, 1, 2, 2,\n",
              "       0, 0, 2, 3, 1, 2, 3, 0, 3, 2, 2, 2, 3, 2, 1, 3, 3, 3, 3, 3, 1, 3,\n",
              "       2, 2, 2, 3, 3, 3, 3, 3, 0, 3, 2, 3, 2, 3, 2, 3, 3])"
            ]
          },
          "metadata": {},
          "execution_count": 20
        }
      ],
      "source": [
        "df_shootings[target].value_counts()\n",
        "from sklearn import preprocessing\n",
        "le = preprocessing.LabelEncoder()\n",
        "le.fit(df_shootings[target])\n",
        "le.transform(df_shootings[target])"
      ]
    },
    {
      "cell_type": "code",
      "execution_count": null,
      "metadata": {
        "id": "0mVhT5yFahS8",
        "colab": {
          "base_uri": "https://localhost:8080/"
        },
        "outputId": "ceb8e13d-dd46-46f9-c8fd-7a4151cd0845"
      },
      "outputs": [
        {
          "output_type": "stream",
          "name": "stderr",
          "text": [
            "<ipython-input-21-68a49ae8995d>:1: SettingWithCopyWarning: \n",
            "A value is trying to be set on a copy of a slice from a DataFrame.\n",
            "Try using .loc[row_indexer,col_indexer] = value instead\n",
            "\n",
            "See the caveats in the documentation: https://pandas.pydata.org/pandas-docs/stable/user_guide/indexing.html#returning-a-view-versus-a-copy\n",
            "  df_shootings[\"location.1_labels\"]= le.transform(df_shootings[target])\n",
            "<ipython-input-21-68a49ae8995d>:2: SettingWithCopyWarning: \n",
            "A value is trying to be set on a copy of a slice from a DataFrame.\n",
            "Try using .loc[row_indexer,col_indexer] = value instead\n",
            "\n",
            "See the caveats in the documentation: https://pandas.pydata.org/pandas-docs/stable/user_guide/indexing.html#returning-a-view-versus-a-copy\n",
            "  df_shootings[\"text\"]= texts\n"
          ]
        }
      ],
      "source": [
        "\n",
        "df_shootings[\"location.1_labels\"]= le.transform(df_shootings[target])\n",
        "df_shootings[\"text\"]= texts\n",
        "\n"
      ]
    },
    {
      "cell_type": "code",
      "execution_count": null,
      "metadata": {
        "id": "7NDk5RYCahS-"
      },
      "outputs": [],
      "source": [
        "df_shootings  = df_shootings.reset_index(drop=True)\n"
      ]
    },
    {
      "cell_type": "code",
      "execution_count": null,
      "metadata": {
        "id": "XsKINlK_ahTA"
      },
      "outputs": [],
      "source": [
        "# This tells matplotlib not to try opening a new window for each plot.\n",
        "%matplotlib inline\n",
        "\n",
        "# General libraries.\n",
        "import re\n",
        "import numpy as np\n",
        "import pandas as pd\n",
        "import matplotlib.pyplot as plt\n",
        "\n",
        "# SK-learn libraries for learning.\n",
        "from sklearn.pipeline import Pipeline\n",
        "from sklearn.neighbors import KNeighborsClassifier\n",
        "from sklearn.linear_model import LogisticRegression\n",
        "from sklearn.naive_bayes import BernoulliNB\n",
        "from sklearn.naive_bayes import MultinomialNB\n",
        "\n",
        "# SK-learn libraries for evaluation.\n",
        "from sklearn.metrics import confusion_matrix\n",
        "from sklearn import metrics\n",
        "from sklearn.metrics import classification_report\n",
        "\n",
        "# SK-learn library for importing the newsgroup data.\n",
        "from sklearn.datasets import fetch_20newsgroups\n",
        "\n",
        "# SK-learn libraries for feature extraction from text.\n",
        "from sklearn.feature_extraction.text import *\n",
        "\n",
        "import nltk\n",
        "\n"
      ]
    },
    {
      "cell_type": "code",
      "execution_count": null,
      "metadata": {
        "id": "UMYQqW_LahTC"
      },
      "outputs": [],
      "source": [
        "\n",
        "categories = le.classes_\n",
        "nrows = int(df_shootings.shape[0]*.75)\n",
        "\n",
        "train = df_shootings.sample(nrows)\n",
        "dev = df_shootings.drop(train.index)\n",
        "train_data = train[\"text\"].values\n",
        "dev_data = dev[\"text\"].values\n",
        "train_labels = train[\"location.1_labels\"].values\n",
        "dev_labels = dev[\"location.1_labels\"].values\n",
        "\n",
        "#train_labels = dev_labels = df_shootings[\"location.1_labels\"]\n"
      ]
    },
    {
      "cell_type": "markdown",
      "metadata": {
        "id": "FtN7FnJJahTD"
      },
      "source": [
        "### Part 1: Text Representation ###"
      ]
    },
    {
      "cell_type": "code",
      "execution_count": null,
      "metadata": {
        "id": "cpGViLV1ahTE",
        "colab": {
          "base_uri": "https://localhost:8080/"
        },
        "outputId": "7f8c93d5-9e5c-42b5-f221-f64ba9439d50"
      },
      "outputs": [
        {
          "output_type": "stream",
          "name": "stdout",
          "text": [
            "Vocabulary size: 3921\n",
            "Average non-zero values per example: 519.98\n",
            "Total fraction of non-zero: 0.1326\n",
            "0th feature: ' '\n",
            "Last feature: '”; '\n",
            "\n"
          ]
        }
      ],
      "source": [
        "\n",
        "def vectorize_text(X_data,**kwargs):\n",
        "\n",
        "    # vectorize the data and transform\n",
        "    vectorizer = CountVectorizer(**kwargs)\n",
        "    train_tokens = vectorizer.fit_transform(X_data) #train_token of rows(samples) and columns (features or words)\n",
        "\n",
        "    num_unique_tokens = train_tokens.shape[1] # column size\n",
        "    num_examples = train_tokens.shape[0] # row size\n",
        "    num_nonzero = train_tokens.nnz #entries in matriz that have values greater than zero\n",
        "    feature_list = vectorizer.get_feature_names_out() #(vocabulary list = feature list = column names)\n",
        "    print(f\"Vocabulary size: {num_unique_tokens}\")\n",
        "\n",
        "    print(f\"Average non-zero values per example: {num_nonzero/num_examples:.2f}\")\n",
        "    print(f\"Total fraction of non-zero: {num_nonzero/(num_unique_tokens*num_examples):.4f}\")\n",
        "    print(f\"0th feature: '{feature_list[0]}'\")\n",
        "    print(f\"Last feature: '{feature_list[-1]}'\")\n",
        "    print()\n",
        "\n",
        "    return feature_list\n",
        "\n",
        "vocab_list = vectorize_text(train_data,ngram_range=(1, 3), analyzer='char_wb')"
      ]
    },
    {
      "cell_type": "markdown",
      "metadata": {
        "id": "7zhztOeVahTI"
      },
      "source": [
        "### Part 2: Initial Model Evaluation ###\n"
      ]
    },
    {
      "cell_type": "code",
      "execution_count": null,
      "metadata": {
        "id": "-lbbK-ndahTJ"
      },
      "outputs": [],
      "source": [
        "def print_f_scores(model_preds,param_key,params):\n",
        "    f_scores = [round(metrics.f1_score(dev_labels, preds, average = \"weighted\"),3) for preds in model_preds]\n",
        "    print(pd.DataFrame(np.vstack([params,f_scores]).T,columns=[param_key,\"f-score\"]).to_string(index=False))\n",
        ""
      ]
    },
    {
      "cell_type": "code",
      "execution_count": null,
      "metadata": {
        "id": "XAhz2IyRahTL",
        "colab": {
          "base_uri": "https://localhost:8080/"
        },
        "outputId": "5ed9d9cf-6c8f-46f4-e563-53b0eb214e6d"
      },
      "outputs": [
        {
          "output_type": "stream",
          "name": "stdout",
          "text": [
            "   k  f-score\n",
            " 1.0    0.540\n",
            " 2.0    0.448\n",
            " 3.0    0.427\n",
            " 4.0    0.413\n",
            " 5.0    0.439\n",
            " 6.0    0.413\n",
            " 7.0    0.473\n",
            " 8.0    0.473\n",
            " 9.0    0.473\n",
            "10.0    0.473\n"
          ]
        }
      ],
      "source": [
        "\n",
        "\n",
        "pipe = Pipeline([  (\"cv\",CountVectorizer()),\n",
        "                (\"model\",KNeighborsClassifier())])\n",
        "\n",
        "#Chose params\n",
        "k_params =[1,2,3,4,5,6,7,8,9,10]\n",
        "model_preds = [pipe.set_params(model__n_neighbors = k).fit(train_data,train_labels).predict(dev_data) for k in k_params]\n",
        "\n",
        "print_f_scores(model_preds,\"k\",k_params)\n",
        "\n"
      ]
    },
    {
      "cell_type": "code",
      "execution_count": null,
      "metadata": {
        "id": "Gzy2TU7XahTO",
        "colab": {
          "base_uri": "https://localhost:8080/"
        },
        "outputId": "0aa62a83-8eac-4fa3-825f-9dc7354cc605"
      },
      "outputs": [
        {
          "output_type": "stream",
          "name": "stdout",
          "text": [
            "  alpha  f-score\n",
            "  0.001    0.779\n",
            "  0.010    0.735\n",
            "  0.100    0.743\n",
            "  1.000    0.567\n",
            " 10.000    0.473\n",
            "100.000    0.473\n"
          ]
        }
      ],
      "source": [
        "alpha_params =[.001,.01,.1,1,10,100]\n",
        "\n",
        "#Set the second step of pipe to a different model\n",
        "pipe.steps[1] = (\"model\",MultinomialNB())\n",
        "model_preds = [pipe.set_params(model__alpha = a).fit(train_data,train_labels).predict(dev_data) for a in alpha_params]\n",
        "#model_preds = [MultinomialNB(alpha=a).fit(train_tokens,train_labels).predict(dev_tokens) for a in alpha_params]\n",
        "print_f_scores(model_preds,\"alpha\",alpha_params)\n"
      ]
    },
    {
      "cell_type": "code",
      "execution_count": null,
      "metadata": {
        "id": "sI9-jlmFahTP",
        "colab": {
          "base_uri": "https://localhost:8080/"
        },
        "outputId": "aa83c88e-3550-432d-8d09-1b5593da8516"
      },
      "outputs": [
        {
          "output_type": "stream",
          "name": "stdout",
          "text": [
            "      C  f-score\n",
            "  0.001    0.473\n",
            "  0.010    0.473\n",
            "  0.100    0.567\n",
            "  1.000    0.567\n",
            " 10.000    0.639\n",
            "100.000    0.639\n"
          ]
        }
      ],
      "source": [
        "#params that sets the importance of the training data (100 => tighest fitting on training data)\n",
        "C_params =[.001,.01,.1,1,10,100]\n",
        "pipe.steps[1] = (\"model\",LogisticRegression(solver='liblinear',multi_class=\"auto\",tol=0.015))\n",
        "#models = [LogisticRegression(C=c,max_iter=500).fit(train_tokens,train_labels) for c in C_params]\n",
        "\n",
        "weights,model_preds = [],[]\n",
        "\n",
        "for c in C_params:\n",
        "    pipe.set_params(model__C=c).fit(train_data,train_labels)\n",
        "    weights.append(pipe['model'].coef_ )\n",
        "    model_preds.append(pipe.predict(dev_data))\n",
        "\n",
        "print_f_scores(model_preds,\"C\",C_params)\n"
      ]
    },
    {
      "cell_type": "markdown",
      "metadata": {
        "id": "9Jn8_Qj8ahTR"
      },
      "source": [
        "### Part 3: Pre-processing for text"
      ]
    },
    {
      "cell_type": "code",
      "execution_count": null,
      "metadata": {
        "id": "Ti5-_HbJahTS"
      },
      "outputs": [],
      "source": [
        "\n",
        "def run_preprocess(text):\n",
        "\n",
        "    #print(text)\n",
        "\n",
        "    #remove numbers\n",
        "    text = re.sub(r'\\d+','',text)\n",
        "\n",
        "    #remove all non-word characters\n",
        "    text = re.sub(r'\\W+',' ',text)\n",
        "\n",
        "    #converts text to tokens\n",
        "    words =  nltk.tokenize.word_tokenize(text)\n",
        "\n",
        "    #Remove stop words (common english terms)\n",
        "    stop_words = set(nltk.corpus.stopwords.words('english'))\n",
        "\n",
        "    #remove all stop words and words less than three chars long\n",
        "    words=[ w for w in words if w not in stop_words and len(w)> 2]\n",
        "\n",
        "    #Add more tokens using variations of the original word\n",
        "    #stemmer/ lemmatizer: one cuts off inflection and the other changes inflection\n",
        "    variations = []\n",
        "    variations += [nltk.PorterStemmer().stem(word) for word in words if word != nltk.PorterStemmer().stem(word)]\n",
        "    variations += [nltk.stem.WordNetLemmatizer().lemmatize(word) for word in words if word != nltk.stem.WordNetLemmatizer().lemmatize(word)]\n",
        "    variations += [word.lower() for word in words if word != word.lower()]\n",
        "\n",
        "    words += variations\n",
        "\n",
        "    return \" \".join(words)\n",
        "\n",
        "\n"
      ]
    },
    {
      "cell_type": "code",
      "execution_count": null,
      "metadata": {
        "id": "iQdJfXsMahTU"
      },
      "outputs": [],
      "source": [
        "lr_pipe = Pipeline([  (\"cv\",CountVectorizer()),\n",
        "                (\"model\",LogisticRegression(C=0.5,solver=\"liblinear\", multi_class=\"auto\"))])\n",
        "def run_vectorizer_score(prep_func):\n",
        "    preds = lr_pipe.set_params(model__C = 0.5,cv__preprocessor = prep_func).fit(train_data,train_labels).predict(dev_data)\n",
        "    #vectorizer = CountVectorizer(preprocessor=prep_func)\n",
        "    #train_tokens = vectorizer.fit_transform(train_data)\n",
        "    #dev_tokens = vectorizer.transform(dev_data)\n",
        "    #model = LogisticRegression(C=0.5,solver=\"liblinear\", multi_class=\"auto\").fit(train_tokens,train_labels)\n",
        "    #preds = model.predict(dev_tokens)\n",
        "    vocab_list = lr_pipe[\"cv\"].get_feature_names_out()\n",
        "    print(f\"Vocab Size:{vocab_list.shape[0]}\")\n",
        "    return metrics.f1_score(dev_labels, preds, average = \"weighted\")"
      ]
    },
    {
      "cell_type": "code",
      "execution_count": null,
      "metadata": {
        "id": "83eHL5pJahTW",
        "colab": {
          "base_uri": "https://localhost:8080/"
        },
        "outputId": "744cce43-5708-44c6-ccd7-f7b447fb8965"
      },
      "outputs": [
        {
          "output_type": "stream",
          "name": "stdout",
          "text": [
            "Vocab Size:1478\n"
          ]
        },
        {
          "output_type": "execute_result",
          "data": {
            "text/plain": [
              "0.5670995670995671"
            ]
          },
          "metadata": {},
          "execution_count": 32
        }
      ],
      "source": [
        "#Before: the preprocessor function returns the value that is passed in (identity function)\n",
        "run_vectorizer_score(lambda x:x)"
      ]
    },
    {
      "cell_type": "code",
      "execution_count": null,
      "metadata": {
        "id": "vv0sGS0XahTX",
        "colab": {
          "base_uri": "https://localhost:8080/",
          "height": 831
        },
        "outputId": "2ec8163e-f128-40c7-df35-d6a40f9bee6e"
      },
      "outputs": [
        {
          "output_type": "stream",
          "name": "stderr",
          "text": [
            "[nltk_data] Downloading package stopwords to /root/nltk_data...\n",
            "[nltk_data]   Package stopwords is already up-to-date!\n",
            "[nltk_data] Downloading package wordnet to /root/nltk_data...\n",
            "[nltk_data]   Package wordnet is already up-to-date!\n",
            "[nltk_data] Downloading package omw-1.4 to /root/nltk_data...\n",
            "[nltk_data]   Package omw-1.4 is already up-to-date!\n"
          ]
        },
        {
          "output_type": "error",
          "ename": "LookupError",
          "evalue": "ignored",
          "traceback": [
            "\u001b[0;31m---------------------------------------------------------------------------\u001b[0m",
            "\u001b[0;31mLookupError\u001b[0m                               Traceback (most recent call last)",
            "\u001b[0;32m<ipython-input-34-ed64827ae60d>\u001b[0m in \u001b[0;36m<module>\u001b[0;34m\u001b[0m\n\u001b[1;32m      4\u001b[0m \u001b[0mnltk\u001b[0m\u001b[0;34m.\u001b[0m\u001b[0mdownload\u001b[0m\u001b[0;34m(\u001b[0m\u001b[0;34m'wordnet'\u001b[0m\u001b[0;34m)\u001b[0m\u001b[0;34m\u001b[0m\u001b[0;34m\u001b[0m\u001b[0m\n\u001b[1;32m      5\u001b[0m \u001b[0mnltk\u001b[0m\u001b[0;34m.\u001b[0m\u001b[0mdownload\u001b[0m\u001b[0;34m(\u001b[0m\u001b[0;34m'omw-1.4'\u001b[0m\u001b[0;34m)\u001b[0m\u001b[0;34m\u001b[0m\u001b[0;34m\u001b[0m\u001b[0m\n\u001b[0;32m----> 6\u001b[0;31m \u001b[0mrun_vectorizer_score\u001b[0m\u001b[0;34m(\u001b[0m\u001b[0mrun_preprocess\u001b[0m\u001b[0;34m)\u001b[0m\u001b[0;34m\u001b[0m\u001b[0;34m\u001b[0m\u001b[0m\n\u001b[0m",
            "\u001b[0;32m<ipython-input-31-71cc534b0d7c>\u001b[0m in \u001b[0;36mrun_vectorizer_score\u001b[0;34m(prep_func)\u001b[0m\n\u001b[1;32m      2\u001b[0m                 (\"model\",LogisticRegression(C=0.5,solver=\"liblinear\", multi_class=\"auto\"))])\n\u001b[1;32m      3\u001b[0m \u001b[0;32mdef\u001b[0m \u001b[0mrun_vectorizer_score\u001b[0m\u001b[0;34m(\u001b[0m\u001b[0mprep_func\u001b[0m\u001b[0;34m)\u001b[0m\u001b[0;34m:\u001b[0m\u001b[0;34m\u001b[0m\u001b[0;34m\u001b[0m\u001b[0m\n\u001b[0;32m----> 4\u001b[0;31m     \u001b[0mpreds\u001b[0m \u001b[0;34m=\u001b[0m \u001b[0mlr_pipe\u001b[0m\u001b[0;34m.\u001b[0m\u001b[0mset_params\u001b[0m\u001b[0;34m(\u001b[0m\u001b[0mmodel__C\u001b[0m \u001b[0;34m=\u001b[0m \u001b[0;36m0.5\u001b[0m\u001b[0;34m,\u001b[0m\u001b[0mcv__preprocessor\u001b[0m \u001b[0;34m=\u001b[0m \u001b[0mprep_func\u001b[0m\u001b[0;34m)\u001b[0m\u001b[0;34m.\u001b[0m\u001b[0mfit\u001b[0m\u001b[0;34m(\u001b[0m\u001b[0mtrain_data\u001b[0m\u001b[0;34m,\u001b[0m\u001b[0mtrain_labels\u001b[0m\u001b[0;34m)\u001b[0m\u001b[0;34m.\u001b[0m\u001b[0mpredict\u001b[0m\u001b[0;34m(\u001b[0m\u001b[0mdev_data\u001b[0m\u001b[0;34m)\u001b[0m\u001b[0;34m\u001b[0m\u001b[0;34m\u001b[0m\u001b[0m\n\u001b[0m\u001b[1;32m      5\u001b[0m     \u001b[0;31m#vectorizer = CountVectorizer(preprocessor=prep_func)\u001b[0m\u001b[0;34m\u001b[0m\u001b[0;34m\u001b[0m\u001b[0;34m\u001b[0m\u001b[0m\n\u001b[1;32m      6\u001b[0m     \u001b[0;31m#train_tokens = vectorizer.fit_transform(train_data)\u001b[0m\u001b[0;34m\u001b[0m\u001b[0;34m\u001b[0m\u001b[0;34m\u001b[0m\u001b[0m\n",
            "\u001b[0;32m/usr/local/lib/python3.8/dist-packages/sklearn/pipeline.py\u001b[0m in \u001b[0;36mfit\u001b[0;34m(self, X, y, **fit_params)\u001b[0m\n\u001b[1;32m    388\u001b[0m         \"\"\"\n\u001b[1;32m    389\u001b[0m         \u001b[0mfit_params_steps\u001b[0m \u001b[0;34m=\u001b[0m \u001b[0mself\u001b[0m\u001b[0;34m.\u001b[0m\u001b[0m_check_fit_params\u001b[0m\u001b[0;34m(\u001b[0m\u001b[0;34m**\u001b[0m\u001b[0mfit_params\u001b[0m\u001b[0;34m)\u001b[0m\u001b[0;34m\u001b[0m\u001b[0;34m\u001b[0m\u001b[0m\n\u001b[0;32m--> 390\u001b[0;31m         \u001b[0mXt\u001b[0m \u001b[0;34m=\u001b[0m \u001b[0mself\u001b[0m\u001b[0;34m.\u001b[0m\u001b[0m_fit\u001b[0m\u001b[0;34m(\u001b[0m\u001b[0mX\u001b[0m\u001b[0;34m,\u001b[0m \u001b[0my\u001b[0m\u001b[0;34m,\u001b[0m \u001b[0;34m**\u001b[0m\u001b[0mfit_params_steps\u001b[0m\u001b[0;34m)\u001b[0m\u001b[0;34m\u001b[0m\u001b[0;34m\u001b[0m\u001b[0m\n\u001b[0m\u001b[1;32m    391\u001b[0m         \u001b[0;32mwith\u001b[0m \u001b[0m_print_elapsed_time\u001b[0m\u001b[0;34m(\u001b[0m\u001b[0;34m\"Pipeline\"\u001b[0m\u001b[0;34m,\u001b[0m \u001b[0mself\u001b[0m\u001b[0;34m.\u001b[0m\u001b[0m_log_message\u001b[0m\u001b[0;34m(\u001b[0m\u001b[0mlen\u001b[0m\u001b[0;34m(\u001b[0m\u001b[0mself\u001b[0m\u001b[0;34m.\u001b[0m\u001b[0msteps\u001b[0m\u001b[0;34m)\u001b[0m \u001b[0;34m-\u001b[0m \u001b[0;36m1\u001b[0m\u001b[0;34m)\u001b[0m\u001b[0;34m)\u001b[0m\u001b[0;34m:\u001b[0m\u001b[0;34m\u001b[0m\u001b[0;34m\u001b[0m\u001b[0m\n\u001b[1;32m    392\u001b[0m             \u001b[0;32mif\u001b[0m \u001b[0mself\u001b[0m\u001b[0;34m.\u001b[0m\u001b[0m_final_estimator\u001b[0m \u001b[0;34m!=\u001b[0m \u001b[0;34m\"passthrough\"\u001b[0m\u001b[0;34m:\u001b[0m\u001b[0;34m\u001b[0m\u001b[0;34m\u001b[0m\u001b[0m\n",
            "\u001b[0;32m/usr/local/lib/python3.8/dist-packages/sklearn/pipeline.py\u001b[0m in \u001b[0;36m_fit\u001b[0;34m(self, X, y, **fit_params_steps)\u001b[0m\n\u001b[1;32m    346\u001b[0m                 \u001b[0mcloned_transformer\u001b[0m \u001b[0;34m=\u001b[0m \u001b[0mclone\u001b[0m\u001b[0;34m(\u001b[0m\u001b[0mtransformer\u001b[0m\u001b[0;34m)\u001b[0m\u001b[0;34m\u001b[0m\u001b[0;34m\u001b[0m\u001b[0m\n\u001b[1;32m    347\u001b[0m             \u001b[0;31m# Fit or load from cache the current transformer\u001b[0m\u001b[0;34m\u001b[0m\u001b[0;34m\u001b[0m\u001b[0;34m\u001b[0m\u001b[0m\n\u001b[0;32m--> 348\u001b[0;31m             X, fitted_transformer = fit_transform_one_cached(\n\u001b[0m\u001b[1;32m    349\u001b[0m                 \u001b[0mcloned_transformer\u001b[0m\u001b[0;34m,\u001b[0m\u001b[0;34m\u001b[0m\u001b[0;34m\u001b[0m\u001b[0m\n\u001b[1;32m    350\u001b[0m                 \u001b[0mX\u001b[0m\u001b[0;34m,\u001b[0m\u001b[0;34m\u001b[0m\u001b[0;34m\u001b[0m\u001b[0m\n",
            "\u001b[0;32m/usr/local/lib/python3.8/dist-packages/joblib/memory.py\u001b[0m in \u001b[0;36m__call__\u001b[0;34m(self, *args, **kwargs)\u001b[0m\n\u001b[1;32m    347\u001b[0m \u001b[0;34m\u001b[0m\u001b[0m\n\u001b[1;32m    348\u001b[0m     \u001b[0;32mdef\u001b[0m \u001b[0m__call__\u001b[0m\u001b[0;34m(\u001b[0m\u001b[0mself\u001b[0m\u001b[0;34m,\u001b[0m \u001b[0;34m*\u001b[0m\u001b[0margs\u001b[0m\u001b[0;34m,\u001b[0m \u001b[0;34m**\u001b[0m\u001b[0mkwargs\u001b[0m\u001b[0;34m)\u001b[0m\u001b[0;34m:\u001b[0m\u001b[0;34m\u001b[0m\u001b[0;34m\u001b[0m\u001b[0m\n\u001b[0;32m--> 349\u001b[0;31m         \u001b[0;32mreturn\u001b[0m \u001b[0mself\u001b[0m\u001b[0;34m.\u001b[0m\u001b[0mfunc\u001b[0m\u001b[0;34m(\u001b[0m\u001b[0;34m*\u001b[0m\u001b[0margs\u001b[0m\u001b[0;34m,\u001b[0m \u001b[0;34m**\u001b[0m\u001b[0mkwargs\u001b[0m\u001b[0;34m)\u001b[0m\u001b[0;34m\u001b[0m\u001b[0;34m\u001b[0m\u001b[0m\n\u001b[0m\u001b[1;32m    350\u001b[0m \u001b[0;34m\u001b[0m\u001b[0m\n\u001b[1;32m    351\u001b[0m     \u001b[0;32mdef\u001b[0m \u001b[0mcall_and_shelve\u001b[0m\u001b[0;34m(\u001b[0m\u001b[0mself\u001b[0m\u001b[0;34m,\u001b[0m \u001b[0;34m*\u001b[0m\u001b[0margs\u001b[0m\u001b[0;34m,\u001b[0m \u001b[0;34m**\u001b[0m\u001b[0mkwargs\u001b[0m\u001b[0;34m)\u001b[0m\u001b[0;34m:\u001b[0m\u001b[0;34m\u001b[0m\u001b[0;34m\u001b[0m\u001b[0m\n",
            "\u001b[0;32m/usr/local/lib/python3.8/dist-packages/sklearn/pipeline.py\u001b[0m in \u001b[0;36m_fit_transform_one\u001b[0;34m(transformer, X, y, weight, message_clsname, message, **fit_params)\u001b[0m\n\u001b[1;32m    891\u001b[0m     \u001b[0;32mwith\u001b[0m \u001b[0m_print_elapsed_time\u001b[0m\u001b[0;34m(\u001b[0m\u001b[0mmessage_clsname\u001b[0m\u001b[0;34m,\u001b[0m \u001b[0mmessage\u001b[0m\u001b[0;34m)\u001b[0m\u001b[0;34m:\u001b[0m\u001b[0;34m\u001b[0m\u001b[0;34m\u001b[0m\u001b[0m\n\u001b[1;32m    892\u001b[0m         \u001b[0;32mif\u001b[0m \u001b[0mhasattr\u001b[0m\u001b[0;34m(\u001b[0m\u001b[0mtransformer\u001b[0m\u001b[0;34m,\u001b[0m \u001b[0;34m\"fit_transform\"\u001b[0m\u001b[0;34m)\u001b[0m\u001b[0;34m:\u001b[0m\u001b[0;34m\u001b[0m\u001b[0;34m\u001b[0m\u001b[0m\n\u001b[0;32m--> 893\u001b[0;31m             \u001b[0mres\u001b[0m \u001b[0;34m=\u001b[0m \u001b[0mtransformer\u001b[0m\u001b[0;34m.\u001b[0m\u001b[0mfit_transform\u001b[0m\u001b[0;34m(\u001b[0m\u001b[0mX\u001b[0m\u001b[0;34m,\u001b[0m \u001b[0my\u001b[0m\u001b[0;34m,\u001b[0m \u001b[0;34m**\u001b[0m\u001b[0mfit_params\u001b[0m\u001b[0;34m)\u001b[0m\u001b[0;34m\u001b[0m\u001b[0;34m\u001b[0m\u001b[0m\n\u001b[0m\u001b[1;32m    894\u001b[0m         \u001b[0;32melse\u001b[0m\u001b[0;34m:\u001b[0m\u001b[0;34m\u001b[0m\u001b[0;34m\u001b[0m\u001b[0m\n\u001b[1;32m    895\u001b[0m             \u001b[0mres\u001b[0m \u001b[0;34m=\u001b[0m \u001b[0mtransformer\u001b[0m\u001b[0;34m.\u001b[0m\u001b[0mfit\u001b[0m\u001b[0;34m(\u001b[0m\u001b[0mX\u001b[0m\u001b[0;34m,\u001b[0m \u001b[0my\u001b[0m\u001b[0;34m,\u001b[0m \u001b[0;34m**\u001b[0m\u001b[0mfit_params\u001b[0m\u001b[0;34m)\u001b[0m\u001b[0;34m.\u001b[0m\u001b[0mtransform\u001b[0m\u001b[0;34m(\u001b[0m\u001b[0mX\u001b[0m\u001b[0;34m)\u001b[0m\u001b[0;34m\u001b[0m\u001b[0;34m\u001b[0m\u001b[0m\n",
            "\u001b[0;32m/usr/local/lib/python3.8/dist-packages/sklearn/feature_extraction/text.py\u001b[0m in \u001b[0;36mfit_transform\u001b[0;34m(self, raw_documents, y)\u001b[0m\n\u001b[1;32m   1328\u001b[0m                     \u001b[0;32mbreak\u001b[0m\u001b[0;34m\u001b[0m\u001b[0;34m\u001b[0m\u001b[0m\n\u001b[1;32m   1329\u001b[0m \u001b[0;34m\u001b[0m\u001b[0m\n\u001b[0;32m-> 1330\u001b[0;31m         \u001b[0mvocabulary\u001b[0m\u001b[0;34m,\u001b[0m \u001b[0mX\u001b[0m \u001b[0;34m=\u001b[0m \u001b[0mself\u001b[0m\u001b[0;34m.\u001b[0m\u001b[0m_count_vocab\u001b[0m\u001b[0;34m(\u001b[0m\u001b[0mraw_documents\u001b[0m\u001b[0;34m,\u001b[0m \u001b[0mself\u001b[0m\u001b[0;34m.\u001b[0m\u001b[0mfixed_vocabulary_\u001b[0m\u001b[0;34m)\u001b[0m\u001b[0;34m\u001b[0m\u001b[0;34m\u001b[0m\u001b[0m\n\u001b[0m\u001b[1;32m   1331\u001b[0m \u001b[0;34m\u001b[0m\u001b[0m\n\u001b[1;32m   1332\u001b[0m         \u001b[0;32mif\u001b[0m \u001b[0mself\u001b[0m\u001b[0;34m.\u001b[0m\u001b[0mbinary\u001b[0m\u001b[0;34m:\u001b[0m\u001b[0;34m\u001b[0m\u001b[0;34m\u001b[0m\u001b[0m\n",
            "\u001b[0;32m/usr/local/lib/python3.8/dist-packages/sklearn/feature_extraction/text.py\u001b[0m in \u001b[0;36m_count_vocab\u001b[0;34m(self, raw_documents, fixed_vocab)\u001b[0m\n\u001b[1;32m   1199\u001b[0m         \u001b[0;32mfor\u001b[0m \u001b[0mdoc\u001b[0m \u001b[0;32min\u001b[0m \u001b[0mraw_documents\u001b[0m\u001b[0;34m:\u001b[0m\u001b[0;34m\u001b[0m\u001b[0;34m\u001b[0m\u001b[0m\n\u001b[1;32m   1200\u001b[0m             \u001b[0mfeature_counter\u001b[0m \u001b[0;34m=\u001b[0m \u001b[0;34m{\u001b[0m\u001b[0;34m}\u001b[0m\u001b[0;34m\u001b[0m\u001b[0;34m\u001b[0m\u001b[0m\n\u001b[0;32m-> 1201\u001b[0;31m             \u001b[0;32mfor\u001b[0m \u001b[0mfeature\u001b[0m \u001b[0;32min\u001b[0m \u001b[0manalyze\u001b[0m\u001b[0;34m(\u001b[0m\u001b[0mdoc\u001b[0m\u001b[0;34m)\u001b[0m\u001b[0;34m:\u001b[0m\u001b[0;34m\u001b[0m\u001b[0;34m\u001b[0m\u001b[0m\n\u001b[0m\u001b[1;32m   1202\u001b[0m                 \u001b[0;32mtry\u001b[0m\u001b[0;34m:\u001b[0m\u001b[0;34m\u001b[0m\u001b[0;34m\u001b[0m\u001b[0m\n\u001b[1;32m   1203\u001b[0m                     \u001b[0mfeature_idx\u001b[0m \u001b[0;34m=\u001b[0m \u001b[0mvocabulary\u001b[0m\u001b[0;34m[\u001b[0m\u001b[0mfeature\u001b[0m\u001b[0;34m]\u001b[0m\u001b[0;34m\u001b[0m\u001b[0;34m\u001b[0m\u001b[0m\n",
            "\u001b[0;32m/usr/local/lib/python3.8/dist-packages/sklearn/feature_extraction/text.py\u001b[0m in \u001b[0;36m_analyze\u001b[0;34m(doc, analyzer, tokenizer, ngrams, preprocessor, decoder, stop_words)\u001b[0m\n\u001b[1;32m    111\u001b[0m     \u001b[0;32melse\u001b[0m\u001b[0;34m:\u001b[0m\u001b[0;34m\u001b[0m\u001b[0;34m\u001b[0m\u001b[0m\n\u001b[1;32m    112\u001b[0m         \u001b[0;32mif\u001b[0m \u001b[0mpreprocessor\u001b[0m \u001b[0;32mis\u001b[0m \u001b[0;32mnot\u001b[0m \u001b[0;32mNone\u001b[0m\u001b[0;34m:\u001b[0m\u001b[0;34m\u001b[0m\u001b[0;34m\u001b[0m\u001b[0m\n\u001b[0;32m--> 113\u001b[0;31m             \u001b[0mdoc\u001b[0m \u001b[0;34m=\u001b[0m \u001b[0mpreprocessor\u001b[0m\u001b[0;34m(\u001b[0m\u001b[0mdoc\u001b[0m\u001b[0;34m)\u001b[0m\u001b[0;34m\u001b[0m\u001b[0;34m\u001b[0m\u001b[0m\n\u001b[0m\u001b[1;32m    114\u001b[0m         \u001b[0;32mif\u001b[0m \u001b[0mtokenizer\u001b[0m \u001b[0;32mis\u001b[0m \u001b[0;32mnot\u001b[0m \u001b[0;32mNone\u001b[0m\u001b[0;34m:\u001b[0m\u001b[0;34m\u001b[0m\u001b[0;34m\u001b[0m\u001b[0m\n\u001b[1;32m    115\u001b[0m             \u001b[0mdoc\u001b[0m \u001b[0;34m=\u001b[0m \u001b[0mtokenizer\u001b[0m\u001b[0;34m(\u001b[0m\u001b[0mdoc\u001b[0m\u001b[0;34m)\u001b[0m\u001b[0;34m\u001b[0m\u001b[0;34m\u001b[0m\u001b[0m\n",
            "\u001b[0;32m<ipython-input-30-08bf9304bcf1>\u001b[0m in \u001b[0;36mrun_preprocess\u001b[0;34m(text)\u001b[0m\n\u001b[1;32m     10\u001b[0m \u001b[0;34m\u001b[0m\u001b[0m\n\u001b[1;32m     11\u001b[0m     \u001b[0;31m#converts text to tokens\u001b[0m\u001b[0;34m\u001b[0m\u001b[0;34m\u001b[0m\u001b[0;34m\u001b[0m\u001b[0m\n\u001b[0;32m---> 12\u001b[0;31m     \u001b[0mwords\u001b[0m \u001b[0;34m=\u001b[0m  \u001b[0mnltk\u001b[0m\u001b[0;34m.\u001b[0m\u001b[0mtokenize\u001b[0m\u001b[0;34m.\u001b[0m\u001b[0mword_tokenize\u001b[0m\u001b[0;34m(\u001b[0m\u001b[0mtext\u001b[0m\u001b[0;34m)\u001b[0m\u001b[0;34m\u001b[0m\u001b[0;34m\u001b[0m\u001b[0m\n\u001b[0m\u001b[1;32m     13\u001b[0m \u001b[0;34m\u001b[0m\u001b[0m\n\u001b[1;32m     14\u001b[0m     \u001b[0;31m#Remove stop words (common english terms)\u001b[0m\u001b[0;34m\u001b[0m\u001b[0;34m\u001b[0m\u001b[0;34m\u001b[0m\u001b[0m\n",
            "\u001b[0;32m/usr/local/lib/python3.8/dist-packages/nltk/tokenize/__init__.py\u001b[0m in \u001b[0;36mword_tokenize\u001b[0;34m(text, language, preserve_line)\u001b[0m\n\u001b[1;32m    127\u001b[0m     \u001b[0;34m:\u001b[0m\u001b[0mtype\u001b[0m \u001b[0mpreserve_line\u001b[0m\u001b[0;34m:\u001b[0m \u001b[0mbool\u001b[0m\u001b[0;34m\u001b[0m\u001b[0;34m\u001b[0m\u001b[0m\n\u001b[1;32m    128\u001b[0m     \"\"\"\n\u001b[0;32m--> 129\u001b[0;31m     \u001b[0msentences\u001b[0m \u001b[0;34m=\u001b[0m \u001b[0;34m[\u001b[0m\u001b[0mtext\u001b[0m\u001b[0;34m]\u001b[0m \u001b[0;32mif\u001b[0m \u001b[0mpreserve_line\u001b[0m \u001b[0;32melse\u001b[0m \u001b[0msent_tokenize\u001b[0m\u001b[0;34m(\u001b[0m\u001b[0mtext\u001b[0m\u001b[0;34m,\u001b[0m \u001b[0mlanguage\u001b[0m\u001b[0;34m)\u001b[0m\u001b[0;34m\u001b[0m\u001b[0;34m\u001b[0m\u001b[0m\n\u001b[0m\u001b[1;32m    130\u001b[0m     return [\n\u001b[1;32m    131\u001b[0m         \u001b[0mtoken\u001b[0m \u001b[0;32mfor\u001b[0m \u001b[0msent\u001b[0m \u001b[0;32min\u001b[0m \u001b[0msentences\u001b[0m \u001b[0;32mfor\u001b[0m \u001b[0mtoken\u001b[0m \u001b[0;32min\u001b[0m \u001b[0m_treebank_word_tokenizer\u001b[0m\u001b[0;34m.\u001b[0m\u001b[0mtokenize\u001b[0m\u001b[0;34m(\u001b[0m\u001b[0msent\u001b[0m\u001b[0;34m)\u001b[0m\u001b[0;34m\u001b[0m\u001b[0;34m\u001b[0m\u001b[0m\n",
            "\u001b[0;32m/usr/local/lib/python3.8/dist-packages/nltk/tokenize/__init__.py\u001b[0m in \u001b[0;36msent_tokenize\u001b[0;34m(text, language)\u001b[0m\n\u001b[1;32m    104\u001b[0m     \u001b[0;34m:\u001b[0m\u001b[0mparam\u001b[0m \u001b[0mlanguage\u001b[0m\u001b[0;34m:\u001b[0m \u001b[0mthe\u001b[0m \u001b[0mmodel\u001b[0m \u001b[0mname\u001b[0m \u001b[0;32min\u001b[0m \u001b[0mthe\u001b[0m \u001b[0mPunkt\u001b[0m \u001b[0mcorpus\u001b[0m\u001b[0;34m\u001b[0m\u001b[0;34m\u001b[0m\u001b[0m\n\u001b[1;32m    105\u001b[0m     \"\"\"\n\u001b[0;32m--> 106\u001b[0;31m     \u001b[0mtokenizer\u001b[0m \u001b[0;34m=\u001b[0m \u001b[0mload\u001b[0m\u001b[0;34m(\u001b[0m\u001b[0;34mf\"tokenizers/punkt/{language}.pickle\"\u001b[0m\u001b[0;34m)\u001b[0m\u001b[0;34m\u001b[0m\u001b[0;34m\u001b[0m\u001b[0m\n\u001b[0m\u001b[1;32m    107\u001b[0m     \u001b[0;32mreturn\u001b[0m \u001b[0mtokenizer\u001b[0m\u001b[0;34m.\u001b[0m\u001b[0mtokenize\u001b[0m\u001b[0;34m(\u001b[0m\u001b[0mtext\u001b[0m\u001b[0;34m)\u001b[0m\u001b[0;34m\u001b[0m\u001b[0;34m\u001b[0m\u001b[0m\n\u001b[1;32m    108\u001b[0m \u001b[0;34m\u001b[0m\u001b[0m\n",
            "\u001b[0;32m/usr/local/lib/python3.8/dist-packages/nltk/data.py\u001b[0m in \u001b[0;36mload\u001b[0;34m(resource_url, format, cache, verbose, logic_parser, fstruct_reader, encoding)\u001b[0m\n\u001b[1;32m    748\u001b[0m \u001b[0;34m\u001b[0m\u001b[0m\n\u001b[1;32m    749\u001b[0m     \u001b[0;31m# Load the resource.\u001b[0m\u001b[0;34m\u001b[0m\u001b[0;34m\u001b[0m\u001b[0;34m\u001b[0m\u001b[0m\n\u001b[0;32m--> 750\u001b[0;31m     \u001b[0mopened_resource\u001b[0m \u001b[0;34m=\u001b[0m \u001b[0m_open\u001b[0m\u001b[0;34m(\u001b[0m\u001b[0mresource_url\u001b[0m\u001b[0;34m)\u001b[0m\u001b[0;34m\u001b[0m\u001b[0;34m\u001b[0m\u001b[0m\n\u001b[0m\u001b[1;32m    751\u001b[0m \u001b[0;34m\u001b[0m\u001b[0m\n\u001b[1;32m    752\u001b[0m     \u001b[0;32mif\u001b[0m \u001b[0mformat\u001b[0m \u001b[0;34m==\u001b[0m \u001b[0;34m\"raw\"\u001b[0m\u001b[0;34m:\u001b[0m\u001b[0;34m\u001b[0m\u001b[0;34m\u001b[0m\u001b[0m\n",
            "\u001b[0;32m/usr/local/lib/python3.8/dist-packages/nltk/data.py\u001b[0m in \u001b[0;36m_open\u001b[0;34m(resource_url)\u001b[0m\n\u001b[1;32m    874\u001b[0m \u001b[0;34m\u001b[0m\u001b[0m\n\u001b[1;32m    875\u001b[0m     \u001b[0;32mif\u001b[0m \u001b[0mprotocol\u001b[0m \u001b[0;32mis\u001b[0m \u001b[0;32mNone\u001b[0m \u001b[0;32mor\u001b[0m \u001b[0mprotocol\u001b[0m\u001b[0;34m.\u001b[0m\u001b[0mlower\u001b[0m\u001b[0;34m(\u001b[0m\u001b[0;34m)\u001b[0m \u001b[0;34m==\u001b[0m \u001b[0;34m\"nltk\"\u001b[0m\u001b[0;34m:\u001b[0m\u001b[0;34m\u001b[0m\u001b[0;34m\u001b[0m\u001b[0m\n\u001b[0;32m--> 876\u001b[0;31m         \u001b[0;32mreturn\u001b[0m \u001b[0mfind\u001b[0m\u001b[0;34m(\u001b[0m\u001b[0mpath_\u001b[0m\u001b[0;34m,\u001b[0m \u001b[0mpath\u001b[0m \u001b[0;34m+\u001b[0m \u001b[0;34m[\u001b[0m\u001b[0;34m\"\"\u001b[0m\u001b[0;34m]\u001b[0m\u001b[0;34m)\u001b[0m\u001b[0;34m.\u001b[0m\u001b[0mopen\u001b[0m\u001b[0;34m(\u001b[0m\u001b[0;34m)\u001b[0m\u001b[0;34m\u001b[0m\u001b[0;34m\u001b[0m\u001b[0m\n\u001b[0m\u001b[1;32m    877\u001b[0m     \u001b[0;32melif\u001b[0m \u001b[0mprotocol\u001b[0m\u001b[0;34m.\u001b[0m\u001b[0mlower\u001b[0m\u001b[0;34m(\u001b[0m\u001b[0;34m)\u001b[0m \u001b[0;34m==\u001b[0m \u001b[0;34m\"file\"\u001b[0m\u001b[0;34m:\u001b[0m\u001b[0;34m\u001b[0m\u001b[0;34m\u001b[0m\u001b[0m\n\u001b[1;32m    878\u001b[0m         \u001b[0;31m# urllib might not use mode='rb', so handle this one ourselves:\u001b[0m\u001b[0;34m\u001b[0m\u001b[0;34m\u001b[0m\u001b[0;34m\u001b[0m\u001b[0m\n",
            "\u001b[0;32m/usr/local/lib/python3.8/dist-packages/nltk/data.py\u001b[0m in \u001b[0;36mfind\u001b[0;34m(resource_name, paths)\u001b[0m\n\u001b[1;32m    581\u001b[0m     \u001b[0msep\u001b[0m \u001b[0;34m=\u001b[0m \u001b[0;34m\"*\"\u001b[0m \u001b[0;34m*\u001b[0m \u001b[0;36m70\u001b[0m\u001b[0;34m\u001b[0m\u001b[0;34m\u001b[0m\u001b[0m\n\u001b[1;32m    582\u001b[0m     \u001b[0mresource_not_found\u001b[0m \u001b[0;34m=\u001b[0m \u001b[0;34mf\"\\n{sep}\\n{msg}\\n{sep}\\n\"\u001b[0m\u001b[0;34m\u001b[0m\u001b[0;34m\u001b[0m\u001b[0m\n\u001b[0;32m--> 583\u001b[0;31m     \u001b[0;32mraise\u001b[0m \u001b[0mLookupError\u001b[0m\u001b[0;34m(\u001b[0m\u001b[0mresource_not_found\u001b[0m\u001b[0;34m)\u001b[0m\u001b[0;34m\u001b[0m\u001b[0;34m\u001b[0m\u001b[0m\n\u001b[0m\u001b[1;32m    584\u001b[0m \u001b[0;34m\u001b[0m\u001b[0m\n\u001b[1;32m    585\u001b[0m \u001b[0;34m\u001b[0m\u001b[0m\n",
            "\u001b[0;31mLookupError\u001b[0m: \n**********************************************************************\n  Resource \u001b[93mpunkt\u001b[0m not found.\n  Please use the NLTK Downloader to obtain the resource:\n\n  \u001b[31m>>> import nltk\n  >>> nltk.download('punkt')\n  \u001b[0m\n  For more information see: https://www.nltk.org/data.html\n\n  Attempted to load \u001b[93mtokenizers/punkt/PY3/english.pickle\u001b[0m\n\n  Searched in:\n    - '/root/nltk_data'\n    - '/usr/nltk_data'\n    - '/usr/share/nltk_data'\n    - '/usr/lib/nltk_data'\n    - '/usr/share/nltk_data'\n    - '/usr/local/share/nltk_data'\n    - '/usr/lib/nltk_data'\n    - '/usr/local/lib/nltk_data'\n    - ''\n**********************************************************************\n"
          ]
        }
      ],
      "source": [
        "#After\n",
        "import nltk\n",
        "nltk.download('stopwords')\n",
        "nltk.download('wordnet')\n",
        "nltk.download('omw-1.4')\n",
        "run_vectorizer_score(run_preprocess)\n"
      ]
    },
    {
      "cell_type": "markdown",
      "metadata": {
        "id": "N1lwc0XTahTY"
      },
      "source": [
        "\n",
        "### Part 4: L1 and L2 regularization ###"
      ]
    },
    {
      "cell_type": "code",
      "execution_count": null,
      "metadata": {
        "id": "fyXiwlp-ahTZ",
        "colab": {
          "base_uri": "https://localhost:8080/",
          "height": 401
        },
        "outputId": "ebbc294d-6eb8-4907-900c-432291f3e0b9"
      },
      "outputs": [
        {
          "output_type": "stream",
          "name": "stdout",
          "text": [
            "Reduced vocab size: C=0.03 size=2 fl score:0.5384615384615384\n",
            "Reduced vocab size: C=0.05 size=4 fl score:0.5287569573283859\n",
            "Reduced vocab size: C=1 size=56 fl score:0.61247947454844\n",
            "Reduced vocab size: C=10 size=139 fl score:0.6390306122448981\n",
            "Reduced vocab size: C=50 size=277 fl score:0.6977726574500768\n",
            "Reduced vocab size: C=100 size=468 fl score:0.6390306122448981\n",
            "Reduced vocab size: C=1000 size=1152 fl score:0.5670995670995671\n"
          ]
        },
        {
          "output_type": "display_data",
          "data": {
            "text/plain": [
              "<Figure size 432x288 with 1 Axes>"
            ],
            "image/png": "[encoded data removed]"
          },
          "metadata": {
            "needs_background": "light"
          }
        }
      ],
      "source": [
        "c_values = [0.001, 0.01, 0.03, 0.05, 1, 10,50, 100, 1000]\n",
        "scores, sizes = [], []\n",
        "for c in c_values:\n",
        "    np.random.seed(0)\n",
        "    lr_pipe = Pipeline([  (\"cv\",CountVectorizer()),\n",
        "                    (\"model\",LogisticRegression(tol=0.015,solver = \"liblinear\"))])\n",
        "\n",
        "\n",
        "    #2\n",
        "    lr_pipe.set_params(model__penalty = 'l1', model__C = c).fit(train_data,train_labels)\n",
        "\n",
        "    vocab_list_all = lr_pipe['cv'].get_feature_names_out()\n",
        "\n",
        "    #3 - finding the reduced vocabulary list\n",
        "    #To do: checke the algortihm for detecting at least one non-zero value for each feature\n",
        "    vocab_list_reduced = vocab_list_all[lr_pipe['model'].coef_.sum(axis=0) != 0]\n",
        "\n",
        "\n",
        "    #Assertion to prevent errors\n",
        "    if (vocab_list_reduced.shape[0] == 0):\n",
        "        continue\n",
        "\n",
        "    #3 - creating the L2 model\n",
        "    #set L2 regularization strength to 0.5\n",
        "    lr_pipe.set_params(cv__vocabulary= vocab_list_reduced,model__penalty = 'l2', model__C = 0.5).fit(train_data,train_labels)\n",
        "\n",
        "    #dev_labels(Actual Labels) and lr_pipe.predict(dev_data) are the predicted values\n",
        "    #4 Print C, vocab size, f1 score\n",
        "    f1_score = metrics.f1_score(dev_labels, lr_pipe.predict(dev_data), average = \"weighted\")\n",
        "    print(f\"Reduced vocab size: C={c} size={vocab_list_reduced.shape[0]} fl score:{f1_score}\")\n",
        "\n",
        "    scores.append( f1_score)\n",
        "    sizes.append(np.log(vocab_list_reduced.shape[0]))\n",
        "\n",
        "#5\n",
        "plt.plot(sizes,scores);\n",
        "plt.xlabel(\"Log Size\");\n",
        "plt.ylabel(\"F1\");\n",
        "\n"
      ]
    },
    {
      "cell_type": "code",
      "execution_count": null,
      "metadata": {
        "id": "A7I9IqoHahTb",
        "colab": {
          "base_uri": "https://localhost:8080/",
          "height": 269
        },
        "outputId": "2fc7851f-c2db-4ae1-d628-e32f658ea4e7"
      },
      "outputs": [
        {
          "output_type": "execute_result",
          "data": {
            "text/plain": [
              "      Sizes  F1 Scores\n",
              "0  0.693147   0.538462\n",
              "1  1.386294   0.528757\n",
              "2  4.025352   0.612479\n",
              "3  4.934474   0.639031\n",
              "4  5.624018   0.697773\n",
              "5  6.148468   0.639031\n",
              "6  7.049255   0.567100"
            ],
            "text/html": [
              "\n",
              "  <div id=\"df-434cc084-281e-4841-8a86-df446bcc05aa\">\n",
              "    <div class=\"colab-df-container\">\n",
              "      <div>\n",
              "<style scoped>\n",
              "    .dataframe tbody tr th:only-of-type {\n",
              "        vertical-align: middle;\n",
              "    }\n",
              "\n",
              "    .dataframe tbody tr th {\n",
              "        vertical-align: top;\n",
              "    }\n",
              "\n",
              "    .dataframe thead th {\n",
              "        text-align: right;\n",
              "    }\n",
              "</style>\n",
              "<table border=\"1\" class=\"dataframe\">\n",
              "  <thead>\n",
              "    <tr style=\"text-align: right;\">\n",
              "      <th></th>\n",
              "      <th>Sizes</th>\n",
              "      <th>F1 Scores</th>\n",
              "    </tr>\n",
              "  </thead>\n",
              "  <tbody>\n",
              "    <tr>\n",
              "      <th>0</th>\n",
              "      <td>0.693147</td>\n",
              "      <td>0.538462</td>\n",
              "    </tr>\n",
              "    <tr>\n",
              "      <th>1</th>\n",
              "      <td>1.386294</td>\n",
              "      <td>0.528757</td>\n",
              "    </tr>\n",
              "    <tr>\n",
              "      <th>2</th>\n",
              "      <td>4.025352</td>\n",
              "      <td>0.612479</td>\n",
              "    </tr>\n",
              "    <tr>\n",
              "      <th>3</th>\n",
              "      <td>4.934474</td>\n",
              "      <td>0.639031</td>\n",
              "    </tr>\n",
              "    <tr>\n",
              "      <th>4</th>\n",
              "      <td>5.624018</td>\n",
              "      <td>0.697773</td>\n",
              "    </tr>\n",
              "    <tr>\n",
              "      <th>5</th>\n",
              "      <td>6.148468</td>\n",
              "      <td>0.639031</td>\n",
              "    </tr>\n",
              "    <tr>\n",
              "      <th>6</th>\n",
              "      <td>7.049255</td>\n",
              "      <td>0.567100</td>\n",
              "    </tr>\n",
              "  </tbody>\n",
              "</table>\n",
              "</div>\n",
              "      <button class=\"colab-df-convert\" onclick=\"convertToInteractive('df-434cc084-281e-4841-8a86-df446bcc05aa')\"\n",
              "              title=\"Convert this dataframe to an interactive table.\"\n",
              "              style=\"display:none;\">\n",
              "        \n",
              "  <svg xmlns=\"http://www.w3.org/2000/svg\" height=\"24px\"viewBox=\"0 0 24 24\"\n",
              "       width=\"24px\">\n",
              "    <path d=\"M0 0h24v24H0V0z\" fill=\"none\"/>\n",
              "    <path d=\"M18.56 5.44l.94 2.06.94-2.06 2.06-.94-2.06-.94-.94-2.06-.94 2.06-2.06.94zm-11 1L8.5 8.5l.94-2.06 2.06-.94-2.06-.94L8.5 2.5l-.94 2.06-2.06.94zm10 10l.94 2.06.94-2.06 2.06-.94-2.06-.94-.94-2.06-.94 2.06-2.06.94z\"/><path d=\"M17.41 7.96l-1.37-1.37c-.4-.4-.92-.59-1.43-.59-.52 0-1.04.2-1.43.59L10.3 9.45l-7.72 7.72c-.78.78-.78 2.05 0 2.83L4 21.41c.39.39.9.59 1.41.59.51 0 1.02-.2 1.41-.59l7.78-7.78 2.81-2.81c.8-.78.8-2.07 0-2.86zM5.41 20L4 18.59l7.72-7.72 1.47 1.35L5.41 20z\"/>\n",
              "  </svg>\n",
              "      </button>\n",
              "      \n",
              "  <style>\n",
              "    .colab-df-container {\n",
              "      display:flex;\n",
              "      flex-wrap:wrap;\n",
              "      gap: 12px;\n",
              "    }\n",
              "\n",
              "    .colab-df-convert {\n",
              "      background-color: #E8F0FE;\n",
              "      border: none;\n",
              "      border-radius: 50%;\n",
              "      cursor: pointer;\n",
              "      display: none;\n",
              "      fill: #1967D2;\n",
              "      height: 32px;\n",
              "      padding: 0 0 0 0;\n",
              "      width: 32px;\n",
              "    }\n",
              "\n",
              "    .colab-df-convert:hover {\n",
              "      background-color: #E2EBFA;\n",
              "      box-shadow: 0px 1px 2px rgba(60, 64, 67, 0.3), 0px 1px 3px 1px rgba(60, 64, 67, 0.15);\n",
              "      fill: #174EA6;\n",
              "    }\n",
              "\n",
              "    [theme=dark] .colab-df-convert {\n",
              "      background-color: #3B4455;\n",
              "      fill: #D2E3FC;\n",
              "    }\n",
              "\n",
              "    [theme=dark] .colab-df-convert:hover {\n",
              "      background-color: #434B5C;\n",
              "      box-shadow: 0px 1px 3px 1px rgba(0, 0, 0, 0.15);\n",
              "      filter: drop-shadow(0px 1px 2px rgba(0, 0, 0, 0.3));\n",
              "      fill: #FFFFFF;\n",
              "    }\n",
              "  </style>\n",
              "\n",
              "      <script>\n",
              "        const buttonEl =\n",
              "          document.querySelector('#df-434cc084-281e-4841-8a86-df446bcc05aa button.colab-df-convert');\n",
              "        buttonEl.style.display =\n",
              "          google.colab.kernel.accessAllowed ? 'block' : 'none';\n",
              "\n",
              "        async function convertToInteractive(key) {\n",
              "          const element = document.querySelector('#df-434cc084-281e-4841-8a86-df446bcc05aa');\n",
              "          const dataTable =\n",
              "            await google.colab.kernel.invokeFunction('convertToInteractive',\n",
              "                                                     [key], {});\n",
              "          if (!dataTable) return;\n",
              "\n",
              "          const docLinkHtml = 'Like what you see? Visit the ' +\n",
              "            '<a target=\"_blank\" href=https://colab.research.google.com/notebooks/data_table.ipynb>data table notebook</a>'\n",
              "            + ' to learn more about interactive tables.';\n",
              "          element.innerHTML = '';\n",
              "          dataTable['output_type'] = 'display_data';\n",
              "          await google.colab.output.renderOutput(dataTable, element);\n",
              "          const docLink = document.createElement('div');\n",
              "          docLink.innerHTML = docLinkHtml;\n",
              "          element.appendChild(docLink);\n",
              "        }\n",
              "      </script>\n",
              "    </div>\n",
              "  </div>\n",
              "  "
            ]
          },
          "metadata": {},
          "execution_count": 36
        }
      ],
      "source": [
        "pd.DataFrame(list(zip(sizes,scores)),columns=[\"Sizes\",\"F1 Scores\"])\n"
      ]
    },
    {
      "cell_type": "markdown",
      "metadata": {
        "id": "bIu9jwHBahTd"
      },
      "source": [
        "### Part 5: TfIdf"
      ]
    },
    {
      "cell_type": "code",
      "execution_count": null,
      "metadata": {
        "id": "IlJlmACYahTd",
        "colab": {
          "base_uri": "https://localhost:8080/"
        },
        "outputId": "b69384b5-832a-42de-df7a-f1c10ce4cbe6"
      },
      "outputs": [
        {
          "output_type": "execute_result",
          "data": {
            "text/plain": [
              "Pipeline(steps=[('tfidf', TfidfVectorizer()),\n",
              "                ('model', LogisticRegression(C=100, solver='liblinear'))])"
            ]
          },
          "metadata": {},
          "execution_count": 37
        }
      ],
      "source": [
        "\n",
        "np.random.seed(0)\n",
        "lr_pipe = Pipeline([  (\"tfidf\",TfidfVectorizer()),\n",
        "                (\"model\",LogisticRegression(C=100,solver = \"liblinear\",multi_class=\"auto\"))])\n",
        "lr_pipe.fit(train_data,train_labels)"
      ]
    },
    {
      "cell_type": "code",
      "execution_count": null,
      "metadata": {
        "id": "tCNljYLEahTf"
      },
      "outputs": [],
      "source": [
        "def run_Rratio(lr_pipe):\n",
        "    probs = lr_pipe.predict_proba(dev_data)\n",
        "\n",
        "    #finds max prob in each sample\n",
        "    max_probs = probs.max(axis=1)\n",
        "\n",
        "\n",
        "\n",
        "    #for every sample selct the probability of the actual label\n",
        "    correct_probs = [row[dev_labels[row_index]] for row_index,row in enumerate(probs)]\n",
        "\n",
        "\n",
        "    #Taking the predicted probs and dividing by the correct probs\n",
        "    Rratio = max_probs/correct_probs\n",
        "\n",
        "    #print(probs[:3],max_probs[:3],correct_probs[:3],dev_labels[:3],sep='\\n\\n')\n",
        "\n",
        "    df_probs = pd.DataFrame(probs,columns=categories)\n",
        "    #df_probs[\"dev_label\"] = dev_labels\n",
        "    df_probs[\"max_prob\"] = probs.max(axis=1)\n",
        "    df_probs[\"correct_prob\"] = [row[dev_labels[i]] for i,row in enumerate(probs)]\n",
        "    df_probs[\"Rratio\"] = df_probs[\"max_prob\"]/df_probs[\"correct_prob\"]\n",
        "    df_probs[\"dev_label\"] = dev_labels\n",
        "    df_probs[\"pred_label\"] = np.argmax(probs,axis=1)\n",
        "\n",
        "    return df_probs.sort_values(by=\"Rratio\",ascending=False)\n"
      ]
    },
    {
      "cell_type": "code",
      "execution_count": null,
      "metadata": {
        "id": "Rwh6lpB8ahTh",
        "colab": {
          "base_uri": "https://localhost:8080/",
          "height": 143
        },
        "outputId": "7bab9dc0-2eb1-4588-b166-89570a59859a"
      },
      "outputs": [
        {
          "output_type": "execute_result",
          "data": {
            "text/plain": [
              "   military  religious    school  workplace  max_prob  correct_prob  \\\n",
              "9  0.012406   0.019024  0.039872   0.928698  0.928698      0.019024   \n",
              "8  0.031686   0.028854  0.029715   0.909745  0.909745      0.031686   \n",
              "0  0.014784   0.012068  0.161638   0.811510  0.811510      0.161638   \n",
              "\n",
              "      Rratio  dev_label  pred_label  \n",
              "9  48.816657          1           3  \n",
              "8  28.711604          0           3  \n",
              "0   5.020538          2           3  "
            ],
            "text/html": [
              "\n",
              "  <div id=\"df-36656057-4fe4-4d68-ad9d-c038c9da0926\">\n",
              "    <div class=\"colab-df-container\">\n",
              "      <div>\n",
              "<style scoped>\n",
              "    .dataframe tbody tr th:only-of-type {\n",
              "        vertical-align: middle;\n",
              "    }\n",
              "\n",
              "    .dataframe tbody tr th {\n",
              "        vertical-align: top;\n",
              "    }\n",
              "\n",
              "    .dataframe thead th {\n",
              "        text-align: right;\n",
              "    }\n",
              "</style>\n",
              "<table border=\"1\" class=\"dataframe\">\n",
              "  <thead>\n",
              "    <tr style=\"text-align: right;\">\n",
              "      <th></th>\n",
              "      <th>military</th>\n",
              "      <th>religious</th>\n",
              "      <th>school</th>\n",
              "      <th>workplace</th>\n",
              "      <th>max_prob</th>\n",
              "      <th>correct_prob</th>\n",
              "      <th>Rratio</th>\n",
              "      <th>dev_label</th>\n",
              "      <th>pred_label</th>\n",
              "    </tr>\n",
              "  </thead>\n",
              "  <tbody>\n",
              "    <tr>\n",
              "      <th>9</th>\n",
              "      <td>0.012406</td>\n",
              "      <td>0.019024</td>\n",
              "      <td>0.039872</td>\n",
              "      <td>0.928698</td>\n",
              "      <td>0.928698</td>\n",
              "      <td>0.019024</td>\n",
              "      <td>48.816657</td>\n",
              "      <td>1</td>\n",
              "      <td>3</td>\n",
              "    </tr>\n",
              "    <tr>\n",
              "      <th>8</th>\n",
              "      <td>0.031686</td>\n",
              "      <td>0.028854</td>\n",
              "      <td>0.029715</td>\n",
              "      <td>0.909745</td>\n",
              "      <td>0.909745</td>\n",
              "      <td>0.031686</td>\n",
              "      <td>28.711604</td>\n",
              "      <td>0</td>\n",
              "      <td>3</td>\n",
              "    </tr>\n",
              "    <tr>\n",
              "      <th>0</th>\n",
              "      <td>0.014784</td>\n",
              "      <td>0.012068</td>\n",
              "      <td>0.161638</td>\n",
              "      <td>0.811510</td>\n",
              "      <td>0.811510</td>\n",
              "      <td>0.161638</td>\n",
              "      <td>5.020538</td>\n",
              "      <td>2</td>\n",
              "      <td>3</td>\n",
              "    </tr>\n",
              "  </tbody>\n",
              "</table>\n",
              "</div>\n",
              "      <button class=\"colab-df-convert\" onclick=\"convertToInteractive('df-36656057-4fe4-4d68-ad9d-c038c9da0926')\"\n",
              "              title=\"Convert this dataframe to an interactive table.\"\n",
              "              style=\"display:none;\">\n",
              "        \n",
              "  <svg xmlns=\"http://www.w3.org/2000/svg\" height=\"24px\"viewBox=\"0 0 24 24\"\n",
              "       width=\"24px\">\n",
              "    <path d=\"M0 0h24v24H0V0z\" fill=\"none\"/>\n",
              "    <path d=\"M18.56 5.44l.94 2.06.94-2.06 2.06-.94-2.06-.94-.94-2.06-.94 2.06-2.06.94zm-11 1L8.5 8.5l.94-2.06 2.06-.94-2.06-.94L8.5 2.5l-.94 2.06-2.06.94zm10 10l.94 2.06.94-2.06 2.06-.94-2.06-.94-.94-2.06-.94 2.06-2.06.94z\"/><path d=\"M17.41 7.96l-1.37-1.37c-.4-.4-.92-.59-1.43-.59-.52 0-1.04.2-1.43.59L10.3 9.45l-7.72 7.72c-.78.78-.78 2.05 0 2.83L4 21.41c.39.39.9.59 1.41.59.51 0 1.02-.2 1.41-.59l7.78-7.78 2.81-2.81c.8-.78.8-2.07 0-2.86zM5.41 20L4 18.59l7.72-7.72 1.47 1.35L5.41 20z\"/>\n",
              "  </svg>\n",
              "      </button>\n",
              "      \n",
              "  <style>\n",
              "    .colab-df-container {\n",
              "      display:flex;\n",
              "      flex-wrap:wrap;\n",
              "      gap: 12px;\n",
              "    }\n",
              "\n",
              "    .colab-df-convert {\n",
              "      background-color: #E8F0FE;\n",
              "      border: none;\n",
              "      border-radius: 50%;\n",
              "      cursor: pointer;\n",
              "      display: none;\n",
              "      fill: #1967D2;\n",
              "      height: 32px;\n",
              "      padding: 0 0 0 0;\n",
              "      width: 32px;\n",
              "    }\n",
              "\n",
              "    .colab-df-convert:hover {\n",
              "      background-color: #E2EBFA;\n",
              "      box-shadow: 0px 1px 2px rgba(60, 64, 67, 0.3), 0px 1px 3px 1px rgba(60, 64, 67, 0.15);\n",
              "      fill: #174EA6;\n",
              "    }\n",
              "\n",
              "    [theme=dark] .colab-df-convert {\n",
              "      background-color: #3B4455;\n",
              "      fill: #D2E3FC;\n",
              "    }\n",
              "\n",
              "    [theme=dark] .colab-df-convert:hover {\n",
              "      background-color: #434B5C;\n",
              "      box-shadow: 0px 1px 3px 1px rgba(0, 0, 0, 0.15);\n",
              "      filter: drop-shadow(0px 1px 2px rgba(0, 0, 0, 0.3));\n",
              "      fill: #FFFFFF;\n",
              "    }\n",
              "  </style>\n",
              "\n",
              "      <script>\n",
              "        const buttonEl =\n",
              "          document.querySelector('#df-36656057-4fe4-4d68-ad9d-c038c9da0926 button.colab-df-convert');\n",
              "        buttonEl.style.display =\n",
              "          google.colab.kernel.accessAllowed ? 'block' : 'none';\n",
              "\n",
              "        async function convertToInteractive(key) {\n",
              "          const element = document.querySelector('#df-36656057-4fe4-4d68-ad9d-c038c9da0926');\n",
              "          const dataTable =\n",
              "            await google.colab.kernel.invokeFunction('convertToInteractive',\n",
              "                                                     [key], {});\n",
              "          if (!dataTable) return;\n",
              "\n",
              "          const docLinkHtml = 'Like what you see? Visit the ' +\n",
              "            '<a target=\"_blank\" href=https://colab.research.google.com/notebooks/data_table.ipynb>data table notebook</a>'\n",
              "            + ' to learn more about interactive tables.';\n",
              "          element.innerHTML = '';\n",
              "          dataTable['output_type'] = 'display_data';\n",
              "          await google.colab.output.renderOutput(dataTable, element);\n",
              "          const docLink = document.createElement('div');\n",
              "          docLink.innerHTML = docLinkHtml;\n",
              "          element.appendChild(docLink);\n",
              "        }\n",
              "      </script>\n",
              "    </div>\n",
              "  </div>\n",
              "  "
            ]
          },
          "metadata": {},
          "execution_count": 39
        }
      ],
      "source": [
        "\n",
        "df_Rratios = run_Rratio(lr_pipe)\n",
        "df_Rratios.head(3)\n"
      ]
    }
  ],
  "metadata": {
    "kernelspec": {
      "display_name": "Python 3.11.0 ('py311')",
      "language": "python",
      "name": "python3"
    },
    "language_info": {
      "codemirror_mode": {
        "name": "ipython",
        "version": 3
      },
      "file_extension": ".py",
      "mimetype": "text/x-python",
      "name": "python",
      "nbconvert_exporter": "python",
      "pygments_lexer": "ipython3",
      "version": "3.11.0"
    },
    "orig_nbformat": 4,
    "vscode": {
      "interpreter": {
        "hash": "485071e3109fccbf73c4bd7c459fb73cf12ff3ddc08ab8a0dc453b3a6041c05c"
      }
    },
    "colab": {
      "provenance": [],
      "include_colab_link": true
    }
  },
  "nbformat": 4,
  "nbformat_minor": 0
}